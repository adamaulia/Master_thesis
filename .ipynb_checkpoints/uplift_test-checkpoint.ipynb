{
 "cells": [
  {
   "cell_type": "code",
   "execution_count": 1,
   "metadata": {},
   "outputs": [],
   "source": [
    "from sklift.datasets import fetch_lenta\n",
    "from sklift.models import ClassTransformation\n",
    "from sklift.metrics import uplift_at_k\n",
    "from sklearn.model_selection import train_test_split\n",
    "from sklearn.impute import SimpleImputer\n",
    "from sklearn.pipeline import Pipeline\n",
    "from catboost import CatBoostClassifier\n",
    "import seaborn as sns\n",
    "import matplotlib.pyplot as plt\n",
    "import pandas as pd\n",
    "import numpy as np\n",
    "import warnings\n",
    "\n",
    "warnings.filterwarnings(\"ignore\")\n",
    "pd.set_option('display.max_columns', None)\n",
    "pd.set_option('display.max_rows', 20)\n",
    "\n",
    "%matplotlib inline"
   ]
  },
  {
   "cell_type": "code",
   "execution_count": 2,
   "metadata": {},
   "outputs": [
    {
     "name": "stdout",
     "output_type": "stream",
     "text": [
      "Dataset type: <class 'sklearn.utils.Bunch'>\n",
      "\n",
      "Dataset features shape: (687029, 193)\n",
      "Dataset target shape: (687029,)\n",
      "Dataset treatment shape: (687029,)\n"
     ]
    },
    {
     "data": {
      "text/plain": [
       "dict_keys(['data', 'target', 'treatment', 'DESCR', 'feature_names', 'target_name', 'treatment_name'])"
      ]
     },
     "execution_count": 2,
     "metadata": {},
     "output_type": "execute_result"
    }
   ],
   "source": [
    "# returns sklearn Bunch object\n",
    "# with data, target, treatment keys\n",
    "# data features (pd.DataFrame), target (pd.Series), treatment (pd.Series) values \n",
    "dataset = fetch_lenta()\n",
    "\n",
    "print(f\"Dataset type: {type(dataset)}\\n\")\n",
    "print(f\"Dataset features shape: {dataset.data.shape}\")\n",
    "print(f\"Dataset target shape: {dataset.target.shape}\")\n",
    "print(f\"Dataset treatment shape: {dataset.treatment.shape}\")\n",
    "\n",
    "dataset.keys()"
   ]
  },
  {
   "cell_type": "markdown",
   "metadata": {},
   "source": [
    "**Dataset** is a dictionary-like object with the following attributes:\n",
    "* ``data`` (DataFrame object): Dataset without target and treatment.\n",
    "* ``target`` (Series object): Column target by values.\n",
    "* ``treatment`` (Series object): Column treatment by values.\n",
    "* ``DESCR`` (str): Description of the Lenta dataset.\n",
    "* ``feature_names`` (list): Names of the features.\n",
    "* ``target_name`` (str): Name of the target.\n",
    "* ``treatment_name`` (str): Name of the treatment.\n",
    "                \n",
    "**Major columns:**\n",
    "- treatment `group` (str): test/control group flag\n",
    "- target `response_att` (binary): target\n",
    "- data `gender` (str): customer gender\n",
    "- data `age` (float): customer age\n",
    "- data `main_format` (int): store type (1 - grociery store, 0 - superstore)\n",
    "\n",
    "Detailed feature description could be found [here](https://www.uplift-modeling.com/en/latest/api/datasets/fetch_lenta.html#lenta)."
   ]
  },
  {
   "cell_type": "code",
   "execution_count": 3,
   "metadata": {},
   "outputs": [
    {
     "data": {
      "text/plain": [
       "0            test\n",
       "1            test\n",
       "2         control\n",
       "3            test\n",
       "4            test\n",
       "           ...   \n",
       "687024    control\n",
       "687025       test\n",
       "687026    control\n",
       "687027    control\n",
       "687028       test\n",
       "Name: group, Length: 687029, dtype: object"
      ]
     },
     "execution_count": 3,
     "metadata": {},
     "output_type": "execute_result"
    }
   ],
   "source": [
    "dataset.treatment"
   ]
  },
  {
   "cell_type": "code",
   "execution_count": 4,
   "metadata": {},
   "outputs": [
    {
     "data": {
      "text/plain": [
       "test       515892\n",
       "control    171137\n",
       "Name: group, dtype: int64"
      ]
     },
     "execution_count": 4,
     "metadata": {},
     "output_type": "execute_result"
    }
   ],
   "source": [
    "dataset.treatment.value_counts()"
   ]
  },
  {
   "cell_type": "code",
   "execution_count": 5,
   "metadata": {},
   "outputs": [
    {
     "data": {
      "text/plain": [
       "0    612661\n",
       "1     74368\n",
       "Name: response_att, dtype: int64"
      ]
     },
     "execution_count": 5,
     "metadata": {},
     "output_type": "execute_result"
    }
   ],
   "source": [
    "dataset.target.value_counts()"
   ]
  },
  {
   "cell_type": "code",
   "execution_count": 6,
   "metadata": {},
   "outputs": [
    {
     "data": {
      "text/plain": [
       "<matplotlib.axes._subplots.AxesSubplot at 0x18625f2a0b8>"
      ]
     },
     "execution_count": 6,
     "metadata": {},
     "output_type": "execute_result"
    },
    {
     "data": {
      "image/png": "[encoded data removed]",
      "text/plain": [
       "<Figure size 1080x288 with 2 Axes>"
      ]
     },
     "metadata": {
      "needs_background": "light"
     },
     "output_type": "display_data"
    }
   ],
   "source": [
    "fig, ax = plt.subplots(1,2, sharey=True, figsize=(15,4))\n",
    "\n",
    "treatment = dataset[\"treatment\"]\n",
    "target = dataset[\"target\"]\n",
    "\n",
    "sns.countplot(x=treatment, ax=ax[0])\n",
    "sns.countplot(x=target, ax=ax[1])"
   ]
  },
  {
   "cell_type": "code",
   "execution_count": 9,
   "metadata": {},
   "outputs": [
    {
     "data": {
      "image/png": "[encoded data removed]",
      "text/plain": [
       "<Figure size 432x288 with 2 Axes>"
      ]
     },
     "metadata": {
      "needs_background": "light"
     },
     "output_type": "display_data"
    }
   ],
   "source": [
    "def crosstab_plot(treatment, target):\n",
    "    ct = pd.crosstab(treatment, target, normalize='index')\n",
    "    \n",
    "    sns.heatmap(ct, annot=True, fmt=\".3f\", linewidths=.5, square = True, cmap = 'Blues_r')\n",
    "    plt.ylabel('Treatment')\n",
    "    plt.xlabel('Target')\n",
    "    plt.title(\"Treatment - Target\", size = 15)\n",
    "    \n",
    "crosstab_plot(dataset.treatment, dataset.target)"
   ]
  },
  {
   "cell_type": "code",
   "execution_count": 7,
   "metadata": {},
   "outputs": [
    {
     "data": {
      "text/plain": [
       "<matplotlib.legend.Legend at 0x18625aa3fd0>"
      ]
     },
     "execution_count": 7,
     "metadata": {},
     "output_type": "execute_result"
    },
    {
     "data": {
      "image/png": "[encoded data removed]",
      "text/plain": [
       "<Figure size 1080x288 with 2 Axes>"
      ]
     },
     "metadata": {
      "needs_background": "light"
     },
     "output_type": "display_data"
    }
   ],
   "source": [
    "fig, ax = plt.subplots(1,2, figsize=(15,4))\n",
    "\n",
    "test_index = dataset.treatment[dataset.treatment == 'test'].index\n",
    "control_index = dataset.treatment[dataset.treatment == 'control'].index\n",
    "\n",
    "sns.distplot(dataset.data.loc[test_index, 'response_sms'], label='test', ax=ax[0])\n",
    "sns.distplot(dataset.data.loc[control_index, 'response_sms'], label='control', ax=ax[0])\n",
    "ax[0].title.set_text('Test & Control response SMS Distribution')\n",
    "ax[0].legend()\n",
    "\n",
    "sns.distplot(dataset.data.loc[test_index, 'age'], label='test', ax=ax[1])\n",
    "sns.distplot(dataset.data.loc[control_index, 'age'], label='control', ax=ax[1])\n",
    "ax[1].title.set_text('Test & Control age Distribution')\n",
    "ax[1].legend()"
   ]
  },
  {
   "cell_type": "code",
   "execution_count": 8,
   "metadata": {},
   "outputs": [
    {
     "data": {
      "text/plain": [
       "0         0.923077\n",
       "1         1.000000\n",
       "2         1.000000\n",
       "3         0.909091\n",
       "4         1.000000\n",
       "            ...   \n",
       "687024    0.000000\n",
       "687025    1.000000\n",
       "687026    1.000000\n",
       "687027    1.000000\n",
       "687028    1.000000\n",
       "Name: response_sms, Length: 687029, dtype: float64"
      ]
     },
     "execution_count": 8,
     "metadata": {},
     "output_type": "execute_result"
    }
   ],
   "source": [
    "dataset.data['response_sms']"
   ]
  },
  {
   "cell_type": "code",
   "execution_count": 9,
   "metadata": {},
   "outputs": [
    {
     "name": "stdout",
     "output_type": "stream",
     "text": [
      "<class 'pandas.core.frame.DataFrame'>\n",
      "RangeIndex: 687029 entries, 0 to 687028\n",
      "Columns: 193 entries, age to stdev_discount_depth_1m\n",
      "dtypes: float64(191), int64(1), object(1)\n",
      "memory usage: 1011.6+ MB\n"
     ]
    }
   ],
   "source": [
    "dataset.data.info()"
   ]
  },
  {
   "cell_type": "code",
   "execution_count": 10,
   "metadata": {},
   "outputs": [],
   "source": [
    "# make treatment binary\n",
    "treat_dict = {\n",
    "    'test': 1,\n",
    "    'control': 0\n",
    "}\n",
    "dataset.treatment = dataset.treatment.map(treat_dict)\n",
    "\n",
    "# make gender binary\n",
    "gender_dict = {\n",
    "    'M': 1,\n",
    "    'Ж': 0\n",
    "}\n",
    "dataset.data.gender = dataset.data.gender.map(gender_dict)"
   ]
  },
  {
   "cell_type": "code",
   "execution_count": 1,
   "metadata": {},
   "outputs": [
    {
     "ename": "NameError",
     "evalue": "name 'pd' is not defined",
     "output_type": "error",
     "traceback": [
      "\u001b[1;31m---------------------------------------------------------------------------\u001b[0m",
      "\u001b[1;31mNameError\u001b[0m                                 Traceback (most recent call last)",
      "\u001b[1;32m<ipython-input-1-95dbe0bd305a>\u001b[0m in \u001b[0;36m<module>\u001b[1;34m\u001b[0m\n\u001b[1;32m----> 1\u001b[1;33m \u001b[0mstratify_cols\u001b[0m \u001b[1;33m=\u001b[0m \u001b[0mpd\u001b[0m\u001b[1;33m.\u001b[0m\u001b[0mconcat\u001b[0m\u001b[1;33m(\u001b[0m\u001b[1;33m[\u001b[0m\u001b[0mdataset\u001b[0m\u001b[1;33m.\u001b[0m\u001b[0mtreatment\u001b[0m\u001b[1;33m,\u001b[0m \u001b[0mdataset\u001b[0m\u001b[1;33m.\u001b[0m\u001b[0mtarget\u001b[0m\u001b[1;33m]\u001b[0m\u001b[1;33m,\u001b[0m \u001b[0maxis\u001b[0m\u001b[1;33m=\u001b[0m\u001b[1;36m1\u001b[0m\u001b[1;33m)\u001b[0m\u001b[1;33m\u001b[0m\u001b[1;33m\u001b[0m\u001b[0m\n\u001b[0m\u001b[0;32m      2\u001b[0m \u001b[1;33m\u001b[0m\u001b[0m\n\u001b[0;32m      3\u001b[0m X_train, X_val, trmnt_train, trmnt_val, y_train, y_val = train_test_split( dataset.data, dataset.treatment, dataset.target, stratify=stratify_cols,\n\u001b[0;32m      4\u001b[0m     \u001b[0mtest_size\u001b[0m\u001b[1;33m=\u001b[0m\u001b[1;36m0.4\u001b[0m\u001b[1;33m,\u001b[0m\u001b[1;33m\u001b[0m\u001b[1;33m\u001b[0m\u001b[0m\n\u001b[0;32m      5\u001b[0m     \u001b[0mrandom_state\u001b[0m\u001b[1;33m=\u001b[0m\u001b[1;36m42\u001b[0m\u001b[1;33m\u001b[0m\u001b[1;33m\u001b[0m\u001b[0m\n",
      "\u001b[1;31mNameError\u001b[0m: name 'pd' is not defined"
     ]
    }
   ],
   "source": [
    "stratify_cols = pd.concat([dataset.treatment, dataset.target], axis=1)\n",
    "\n",
    "X_train, X_val, trmnt_train, trmnt_val, y_train, y_val = train_test_split( dataset.data, dataset.treatment, dataset.target, stratify=stratify_cols,\n",
    "    test_size=0.4,\n",
    "    random_state=42\n",
    ")"
   ]
  },
  {
   "cell_type": "code",
   "execution_count": 12,
   "metadata": {},
   "outputs": [],
   "source": [
    "imp_mode = SimpleImputer(missing_values=np.nan, strategy='most_frequent')\n",
    "estimator = CatBoostClassifier(verbose=100,\n",
    "                               random_state=42,\n",
    "                               thread_count=1)\n",
    "ct_model = ClassTransformation(estimator=estimator)\n",
    "\n",
    "my_pipeline = Pipeline([\n",
    "    ('imputer', imp_mode),\n",
    "    ('model', ct_model)\n",
    "])"
   ]
  },
  {
   "cell_type": "code",
   "execution_count": 13,
   "metadata": {},
   "outputs": [
    {
     "name": "stdout",
     "output_type": "stream",
     "text": [
      "Learning rate set to 0.143939\n",
      "0:\tlearn: 0.6695107\ttotal: 878ms\tremaining: 14m 36s\n",
      "100:\tlearn: 0.5950043\ttotal: 1m 12s\tremaining: 10m 45s\n",
      "200:\tlearn: 0.5908539\ttotal: 2m 21s\tremaining: 9m 21s\n",
      "300:\tlearn: 0.5870115\ttotal: 3m 35s\tremaining: 8m 21s\n",
      "400:\tlearn: 0.5835003\ttotal: 4m 50s\tremaining: 7m 13s\n",
      "500:\tlearn: 0.5800551\ttotal: 6m\tremaining: 5m 59s\n",
      "600:\tlearn: 0.5768127\ttotal: 7m 19s\tremaining: 4m 51s\n",
      "700:\tlearn: 0.5736896\ttotal: 8m 33s\tremaining: 3m 39s\n",
      "800:\tlearn: 0.5706878\ttotal: 9m 47s\tremaining: 2m 25s\n",
      "900:\tlearn: 0.5676374\ttotal: 11m 4s\tremaining: 1m 13s\n",
      "999:\tlearn: 0.5647908\ttotal: 12m 29s\tremaining: 0us\n"
     ]
    }
   ],
   "source": [
    "my_pipeline = my_pipeline.fit(\n",
    "    X=X_train, \n",
    "    y=y_train, \n",
    "    model__treatment=trmnt_train\n",
    ")"
   ]
  },
  {
   "cell_type": "code",
   "execution_count": 14,
   "metadata": {},
   "outputs": [
    {
     "name": "stdout",
     "output_type": "stream",
     "text": [
      "uplift@30%: 0.0504\n"
     ]
    }
   ],
   "source": [
    "uplift_predictions = my_pipeline.predict(X_val)\n",
    "\n",
    "uplift_30 = uplift_at_k(y_val, uplift_predictions, trmnt_val, strategy='overall')\n",
    "print(f'uplift@30%: {uplift_30:.4f}')"
   ]
  },
  {
   "cell_type": "code",
   "execution_count": 15,
   "metadata": {},
   "outputs": [
    {
     "data": {
      "text/plain": [
       "array([-0.41825052,  0.05502307, -0.47616129, ..., -0.4985303 ,\n",
       "       -0.3040711 , -0.52625171])"
      ]
     },
     "execution_count": 15,
     "metadata": {},
     "output_type": "execute_result"
    }
   ],
   "source": [
    "uplift_predictions"
   ]
  },
  {
   "cell_type": "code",
   "execution_count": 16,
   "metadata": {},
   "outputs": [
    {
     "data": {
      "text/plain": [
       "0.9716608383543124"
      ]
     },
     "execution_count": 16,
     "metadata": {},
     "output_type": "execute_result"
    }
   ],
   "source": [
    "np.max(uplift_predictions)"
   ]
  },
  {
   "cell_type": "code",
   "execution_count": 17,
   "metadata": {},
   "outputs": [
    {
     "data": {
      "text/plain": [
       "-0.8794015071888159"
      ]
     },
     "execution_count": 17,
     "metadata": {},
     "output_type": "execute_result"
    }
   ],
   "source": [
    "np.min(uplift_predictions)"
   ]
  },
  {
   "cell_type": "code",
   "execution_count": 19,
   "metadata": {},
   "outputs": [
    {
     "data": {
      "text/plain": [
       "0    428862\n",
       "1     52058\n",
       "Name: response_att, dtype: int64"
      ]
     },
     "execution_count": 19,
     "metadata": {},
     "output_type": "execute_result"
    }
   ],
   "source": [
    "y_train.value_counts()"
   ]
  },
  {
   "cell_type": "code",
   "execution_count": null,
   "metadata": {},
   "outputs": [],
   "source": []
  }
 ],
 "metadata": {
  "kernelspec": {
   "display_name": "Python 3",
   "language": "python",
   "name": "python3"
  },
  "language_info": {
   "codemirror_mode": {
    "name": "ipython",
    "version": 3
   },
   "file_extension": ".py",
   "mimetype": "text/x-python",
   "name": "python",
   "nbconvert_exporter": "python",
   "pygments_lexer": "ipython3",
   "version": "3.6.9"
  }
 },
 "nbformat": 4,
 "nbformat_minor": 4
}
