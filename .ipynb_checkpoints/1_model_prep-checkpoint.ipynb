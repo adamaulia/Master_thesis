{
 "cells": [
  {
   "cell_type": "code",
   "execution_count": 87,
   "metadata": {},
   "outputs": [],
   "source": [
    "import pandas as pd \n",
    "from sklearn.impute import SimpleImputer\n",
    "from catboost import CatBoostClassifier\n",
    "from xgboost import XGBClassifier\n",
    "from sklearn.model_selection import train_test_split\n",
    "import numpy as np\n",
    "from sklearn import preprocessing\n",
    "from sklearn.metrics import f1_score\n",
    "import matplotlib.pyplot as plt\n",
    "from sklift.models import ClassTransformation, TwoModels\n",
    "import pickle\n",
    "import scikitplot as skplt\n",
    "from sklearn.preprocessing import MinMaxScaler\n",
    "from sklift.viz import plot_uplift_curve, plot_qini_curve\n",
    "import kds\n",
    "from sklift.metrics import uplift_at_k, uplift_auc_score \n",
    "\n",
    "\n",
    "pd.set_option('display.max_rows', 500)\n",
    "pd.set_option('display.max_columns', 500)\n",
    "%matplotlib inline"
   ]
  },
  {
   "cell_type": "code",
   "execution_count": 2,
   "metadata": {},
   "outputs": [],
   "source": [
    "def age_range(values):\n",
    "    if values > 0 and values <= 17:\n",
    "        return 0 \n",
    "    elif values > 17 and values <= 30:\n",
    "        return 1 \n",
    "    elif values > 30 and values <= 45 :\n",
    "        return 2 \n",
    "    elif values > 45 and values <= 60 :\n",
    "        return 3 \n",
    "    elif values >  60 and values <= 90:\n",
    "        return 4 \n",
    "    else :\n",
    "        return 5\n",
    "    \n",
    "def summary_f1_uplift(X_val,X_test,y_val,y_test,model):\n",
    "    pred_val =  np.where(model.predict(X_val) <= 0, 0, 1)\n",
    "    pred_test =  np.where(model.predict(X_test) <= 0, 0, 1)\n",
    "    print('f1 score for validation set {}'.format(f1_score(y_val, pred_val, average='binary')))\n",
    "    print('f1 score for test set {}'.format(f1_score(y_test, pred_test, average='binary')))\n",
    "    \n",
    "def summary_f1(X_val,X_test,y_val,y_test,model):\n",
    "    pred_val =  model.predict(X_val)\n",
    "    pred_test =  model.predict(X_test) \n",
    "    print('f1 score for validation set {}'.format(f1_score(y_val, pred_val, average='binary')))\n",
    "    print('f1 score for test set {}'.format(f1_score(y_test, pred_test, average='binary')))\n",
    "    \n",
    "def data_preprocessing(df_feature, df_products, df_store):\n",
    "    # clean up, imputation \n",
    "    # label encoder \n",
    "    \n",
    "    # split numeric and categorical columns \n",
    "\n",
    "    categorical_columns = list(df_feature.select_dtypes(include=['object']).columns)\n",
    "    categorical_columns = categorical_columns[1:]\n",
    "\n",
    "    numeric_columns =  list(df_feature.select_dtypes(include=['float64']).columns)\n",
    "    # numeric_columns = numeric_columns\n",
    "    \n",
    "    # fill null columns on numeric columns \n",
    "    imp = SimpleImputer(missing_values=np.nan, strategy='median')\n",
    "    df_feature[numeric_columns] = imp.fit_transform(df_feature[numeric_columns])\n",
    "\n",
    "    # fill null columns on numeric columns \n",
    "    imp2 = SimpleImputer(strategy=\"most_frequent\")\n",
    "    df_feature[categorical_columns] = imp2.fit_transform(df_feature[categorical_columns])\n",
    "\n",
    "    # fill null columns on numeric columns \n",
    "    imp3 = SimpleImputer(strategy=\"most_frequent\",missing_values='U')\n",
    "    df_feature['gender'] = imp3.fit_transform(df_feature['gender'].values.reshape(-1,1))\n",
    "    \n",
    "    # preprocessing \n",
    "    le_store = preprocessing.LabelEncoder()\n",
    "    le_prod = preprocessing.LabelEncoder()\n",
    "    le_gender = preprocessing.LabelEncoder()\n",
    "\n",
    "    le_prod.fit(df_product['product_id'])\n",
    "    le_store.fit(df_store['store_id'])\n",
    "    le_gender.fit(df_feature['gender'])\n",
    "\n",
    "    # product \n",
    "    for col in ['m_1_prd_qty_val', 'm_11_prd_qty_val', 'm_12_prd_qty_val', 'm_2_prd_qty_val', 'm_3_prd_qty_val',\n",
    "               'm_1_prd_pur','m_11_prd_pur','m_12_prd_pur','m_2_prd_pur','m_3_prd_pur']:\n",
    "        df_feature[col] = le_prod.transform(df_feature[col])\n",
    "\n",
    "    # store \n",
    "    for col in ['m_1_str_top_qty', 'm_11_str_top_qty', 'm_12_str_top_qty', 'm_2_str_top_qty', 'm_3_str_top_qty',\n",
    "     'm_1_str_top_pur','m_11_str_top_pur','m_12_str_top_pur','m_2_str_top_pur','m_3_str_top_pur']:\n",
    "        df_feature[col] = le_store.transform(df_feature[col])\n",
    "\n",
    "    df_feature['gender'] = le_gender.transform(df_feature['gender'])\n",
    "    \n",
    "    return df_feature"
   ]
  },
  {
   "cell_type": "code",
   "execution_count": 3,
   "metadata": {},
   "outputs": [],
   "source": [
    "# load features \n",
    "df_feature = pd.read_csv('../../data/feature_stg1.csv/part-00000-13c76568-33bb-4aaa-bb62-1bbeaf144bcb-c000.csv')\n",
    "df_store = pd.read_csv('../../data/unique_store.csv/part-00000-d7453c53-4a48-4ff3-85f3-1e665ea60e07-c000.csv')\n",
    "df_feature = df_feature.drop(['first_issue_date','first_redeem_date'],axis=1)\n",
    "df_feature['age_group'] = df_feature['age'].apply(age_range)\n",
    "\n",
    "# load products data \n",
    "df_product = pd.read_csv('../../data/data/products.csv')"
   ]
  },
  {
   "cell_type": "code",
   "execution_count": 4,
   "metadata": {},
   "outputs": [],
   "source": [
    "df_feature = data_preprocessing(df_feature, df_product, df_store)"
   ]
  },
  {
   "cell_type": "code",
   "execution_count": 5,
   "metadata": {},
   "outputs": [
    {
     "data": {
      "text/html": [
       "<div>\n",
       "<style scoped>\n",
       "    .dataframe tbody tr th:only-of-type {\n",
       "        vertical-align: middle;\n",
       "    }\n",
       "\n",
       "    .dataframe tbody tr th {\n",
       "        vertical-align: top;\n",
       "    }\n",
       "\n",
       "    .dataframe thead th {\n",
       "        text-align: right;\n",
       "    }\n",
       "</style>\n",
       "<table border=\"1\" class=\"dataframe\">\n",
       "  <thead>\n",
       "    <tr style=\"text-align: right;\">\n",
       "      <th></th>\n",
       "      <th>client_id</th>\n",
       "      <th>treatment_flg</th>\n",
       "      <th>target</th>\n",
       "      <th>age</th>\n",
       "      <th>gender</th>\n",
       "      <th>m_1_rpr</th>\n",
       "      <th>m_11_rpr</th>\n",
       "      <th>m_12_rpr</th>\n",
       "      <th>m_2_rpr</th>\n",
       "      <th>m_3_rpr</th>\n",
       "      <th>m_1_eps</th>\n",
       "      <th>m_11_eps</th>\n",
       "      <th>m_12_eps</th>\n",
       "      <th>m_2_eps</th>\n",
       "      <th>m_3_eps</th>\n",
       "      <th>m_1_ps</th>\n",
       "      <th>m_11_ps</th>\n",
       "      <th>m_12_ps</th>\n",
       "      <th>m_2_ps</th>\n",
       "      <th>m_3_ps</th>\n",
       "      <th>m_1_rps</th>\n",
       "      <th>m_11_rps</th>\n",
       "      <th>m_12_rps</th>\n",
       "      <th>m_2_rps</th>\n",
       "      <th>m_3_rps</th>\n",
       "      <th>m_1_prd_qty_val</th>\n",
       "      <th>m_11_prd_qty_val</th>\n",
       "      <th>m_12_prd_qty_val</th>\n",
       "      <th>m_2_prd_qty_val</th>\n",
       "      <th>m_3_prd_qty_val</th>\n",
       "      <th>m_1_prd_pur</th>\n",
       "      <th>m_11_prd_pur</th>\n",
       "      <th>m_12_prd_pur</th>\n",
       "      <th>m_2_prd_pur</th>\n",
       "      <th>m_3_prd_pur</th>\n",
       "      <th>m_1_prd_pur_qty</th>\n",
       "      <th>m_11_prd_pur_qty</th>\n",
       "      <th>m_12_prd_pur_qty</th>\n",
       "      <th>m_2_prd_pur_qty</th>\n",
       "      <th>m_3_prd_pur_qty</th>\n",
       "      <th>m_1_prd_pur_sum</th>\n",
       "      <th>m_11_prd_pur_sum</th>\n",
       "      <th>m_12_prd_pur_sum</th>\n",
       "      <th>m_2_prd_pur_sum</th>\n",
       "      <th>m_3_prd_pur_sum</th>\n",
       "      <th>m_1_str_top_qty</th>\n",
       "      <th>m_11_str_top_qty</th>\n",
       "      <th>m_12_str_top_qty</th>\n",
       "      <th>m_2_str_top_qty</th>\n",
       "      <th>m_3_str_top_qty</th>\n",
       "      <th>m_1_str_top_pur</th>\n",
       "      <th>m_11_str_top_pur</th>\n",
       "      <th>m_12_str_top_pur</th>\n",
       "      <th>m_2_str_top_pur</th>\n",
       "      <th>m_3_str_top_pur</th>\n",
       "      <th>m_1_str_top_qty_val</th>\n",
       "      <th>m_11_str_top_qty_val</th>\n",
       "      <th>m_12_str_top_qty_val</th>\n",
       "      <th>m_2_str_top_qty_val</th>\n",
       "      <th>m_3_str_top_qty_val</th>\n",
       "      <th>m_1_str_top_pur_val</th>\n",
       "      <th>m_11_str_top_pur_val</th>\n",
       "      <th>m_12_str_top_pur_val</th>\n",
       "      <th>m_2_str_top_pur_val</th>\n",
       "      <th>m_3_str_top_pur_val</th>\n",
       "      <th>age_group</th>\n",
       "    </tr>\n",
       "  </thead>\n",
       "  <tbody>\n",
       "    <tr>\n",
       "      <th>0</th>\n",
       "      <td>00f6cab0d9</td>\n",
       "      <td>0</td>\n",
       "      <td>1</td>\n",
       "      <td>48</td>\n",
       "      <td>0</td>\n",
       "      <td>17.6</td>\n",
       "      <td>4.4</td>\n",
       "      <td>26.5</td>\n",
       "      <td>11.1</td>\n",
       "      <td>13.2</td>\n",
       "      <td>0.0</td>\n",
       "      <td>0.0</td>\n",
       "      <td>0.0</td>\n",
       "      <td>0.0</td>\n",
       "      <td>0.0</td>\n",
       "      <td>2533.37</td>\n",
       "      <td>698.865</td>\n",
       "      <td>2844.54</td>\n",
       "      <td>1360.99</td>\n",
       "      <td>1732.330</td>\n",
       "      <td>0.0</td>\n",
       "      <td>0.0</td>\n",
       "      <td>0.0</td>\n",
       "      <td>0.0</td>\n",
       "      <td>0.0</td>\n",
       "      <td>10810</td>\n",
       "      <td>10810</td>\n",
       "      <td>10810</td>\n",
       "      <td>10810</td>\n",
       "      <td>10810</td>\n",
       "      <td>10810</td>\n",
       "      <td>10810</td>\n",
       "      <td>10810</td>\n",
       "      <td>10810</td>\n",
       "      <td>10810</td>\n",
       "      <td>5.0</td>\n",
       "      <td>1.0</td>\n",
       "      <td>4.0</td>\n",
       "      <td>3.0</td>\n",
       "      <td>3.0</td>\n",
       "      <td>2533.370</td>\n",
       "      <td>537.63</td>\n",
       "      <td>2844.54</td>\n",
       "      <td>1360.99</td>\n",
       "      <td>1601.13</td>\n",
       "      <td>6022</td>\n",
       "      <td>12871</td>\n",
       "      <td>6022</td>\n",
       "      <td>6022</td>\n",
       "      <td>6022</td>\n",
       "      <td>6022</td>\n",
       "      <td>12871</td>\n",
       "      <td>6022</td>\n",
       "      <td>6022</td>\n",
       "      <td>6022</td>\n",
       "      <td>83.0</td>\n",
       "      <td>57.0</td>\n",
       "      <td>83.0</td>\n",
       "      <td>83.0</td>\n",
       "      <td>83.0</td>\n",
       "      <td>1811.240</td>\n",
       "      <td>618.27</td>\n",
       "      <td>2844.54</td>\n",
       "      <td>1360.99</td>\n",
       "      <td>1732.330</td>\n",
       "      <td>3</td>\n",
       "    </tr>\n",
       "    <tr>\n",
       "      <th>1</th>\n",
       "      <td>010c5002de</td>\n",
       "      <td>1</td>\n",
       "      <td>1</td>\n",
       "      <td>27</td>\n",
       "      <td>1</td>\n",
       "      <td>3.2</td>\n",
       "      <td>3.0</td>\n",
       "      <td>8.6</td>\n",
       "      <td>5.4</td>\n",
       "      <td>3.5</td>\n",
       "      <td>-30.0</td>\n",
       "      <td>0.0</td>\n",
       "      <td>0.0</td>\n",
       "      <td>-30.0</td>\n",
       "      <td>0.0</td>\n",
       "      <td>970.41</td>\n",
       "      <td>307.560</td>\n",
       "      <td>1537.70</td>\n",
       "      <td>1163.03</td>\n",
       "      <td>728.480</td>\n",
       "      <td>-24.0</td>\n",
       "      <td>0.0</td>\n",
       "      <td>0.0</td>\n",
       "      <td>-6.0</td>\n",
       "      <td>0.0</td>\n",
       "      <td>29983</td>\n",
       "      <td>13763</td>\n",
       "      <td>37180</td>\n",
       "      <td>13783</td>\n",
       "      <td>25083</td>\n",
       "      <td>29983</td>\n",
       "      <td>13763</td>\n",
       "      <td>26353</td>\n",
       "      <td>13783</td>\n",
       "      <td>17964</td>\n",
       "      <td>1.0</td>\n",
       "      <td>1.0</td>\n",
       "      <td>2.0</td>\n",
       "      <td>2.0</td>\n",
       "      <td>1.0</td>\n",
       "      <td>429.960</td>\n",
       "      <td>307.56</td>\n",
       "      <td>588.62</td>\n",
       "      <td>619.36</td>\n",
       "      <td>318.85</td>\n",
       "      <td>6960</td>\n",
       "      <td>6960</td>\n",
       "      <td>6960</td>\n",
       "      <td>6960</td>\n",
       "      <td>6960</td>\n",
       "      <td>6960</td>\n",
       "      <td>6960</td>\n",
       "      <td>6960</td>\n",
       "      <td>6960</td>\n",
       "      <td>6960</td>\n",
       "      <td>40.0</td>\n",
       "      <td>40.0</td>\n",
       "      <td>40.0</td>\n",
       "      <td>40.0</td>\n",
       "      <td>40.0</td>\n",
       "      <td>749.840</td>\n",
       "      <td>307.56</td>\n",
       "      <td>1537.70</td>\n",
       "      <td>764.03</td>\n",
       "      <td>728.480</td>\n",
       "      <td>1</td>\n",
       "    </tr>\n",
       "    <tr>\n",
       "      <th>2</th>\n",
       "      <td>018253c9e4</td>\n",
       "      <td>0</td>\n",
       "      <td>0</td>\n",
       "      <td>78</td>\n",
       "      <td>0</td>\n",
       "      <td>16.4</td>\n",
       "      <td>0.0</td>\n",
       "      <td>28.6</td>\n",
       "      <td>12.5</td>\n",
       "      <td>0.6</td>\n",
       "      <td>0.0</td>\n",
       "      <td>0.0</td>\n",
       "      <td>0.0</td>\n",
       "      <td>0.0</td>\n",
       "      <td>0.0</td>\n",
       "      <td>1651.00</td>\n",
       "      <td>309.000</td>\n",
       "      <td>3077.00</td>\n",
       "      <td>1706.00</td>\n",
       "      <td>223.000</td>\n",
       "      <td>0.0</td>\n",
       "      <td>-309.0</td>\n",
       "      <td>0.0</td>\n",
       "      <td>0.0</td>\n",
       "      <td>-100.0</td>\n",
       "      <td>36778</td>\n",
       "      <td>4261</td>\n",
       "      <td>36258</td>\n",
       "      <td>14501</td>\n",
       "      <td>42383</td>\n",
       "      <td>38892</td>\n",
       "      <td>19639</td>\n",
       "      <td>36258</td>\n",
       "      <td>14501</td>\n",
       "      <td>42383</td>\n",
       "      <td>1.0</td>\n",
       "      <td>1.0</td>\n",
       "      <td>2.0</td>\n",
       "      <td>2.0</td>\n",
       "      <td>1.0</td>\n",
       "      <td>972.000</td>\n",
       "      <td>179.00</td>\n",
       "      <td>2661.00</td>\n",
       "      <td>893.00</td>\n",
       "      <td>223.00</td>\n",
       "      <td>11440</td>\n",
       "      <td>11440</td>\n",
       "      <td>11440</td>\n",
       "      <td>11440</td>\n",
       "      <td>11809</td>\n",
       "      <td>11809</td>\n",
       "      <td>11440</td>\n",
       "      <td>11440</td>\n",
       "      <td>11440</td>\n",
       "      <td>11809</td>\n",
       "      <td>39.0</td>\n",
       "      <td>39.0</td>\n",
       "      <td>39.0</td>\n",
       "      <td>39.0</td>\n",
       "      <td>28.0</td>\n",
       "      <td>972.000</td>\n",
       "      <td>309.00</td>\n",
       "      <td>2196.00</td>\n",
       "      <td>813.00</td>\n",
       "      <td>223.000</td>\n",
       "      <td>4</td>\n",
       "    </tr>\n",
       "    <tr>\n",
       "      <th>3</th>\n",
       "      <td>02429418df</td>\n",
       "      <td>0</td>\n",
       "      <td>0</td>\n",
       "      <td>23</td>\n",
       "      <td>1</td>\n",
       "      <td>11.3</td>\n",
       "      <td>4.4</td>\n",
       "      <td>13.4</td>\n",
       "      <td>15.9</td>\n",
       "      <td>8.0</td>\n",
       "      <td>0.0</td>\n",
       "      <td>0.0</td>\n",
       "      <td>0.0</td>\n",
       "      <td>0.0</td>\n",
       "      <td>0.0</td>\n",
       "      <td>1618.00</td>\n",
       "      <td>698.865</td>\n",
       "      <td>1349.00</td>\n",
       "      <td>1876.70</td>\n",
       "      <td>931.070</td>\n",
       "      <td>0.0</td>\n",
       "      <td>0.0</td>\n",
       "      <td>0.0</td>\n",
       "      <td>0.0</td>\n",
       "      <td>0.0</td>\n",
       "      <td>10810</td>\n",
       "      <td>10810</td>\n",
       "      <td>13091</td>\n",
       "      <td>10810</td>\n",
       "      <td>27821</td>\n",
       "      <td>10810</td>\n",
       "      <td>10810</td>\n",
       "      <td>13091</td>\n",
       "      <td>10810</td>\n",
       "      <td>12454</td>\n",
       "      <td>2.0</td>\n",
       "      <td>1.0</td>\n",
       "      <td>1.0</td>\n",
       "      <td>2.0</td>\n",
       "      <td>1.0</td>\n",
       "      <td>1002.405</td>\n",
       "      <td>537.63</td>\n",
       "      <td>1349.00</td>\n",
       "      <td>1841.70</td>\n",
       "      <td>582.07</td>\n",
       "      <td>11336</td>\n",
       "      <td>12871</td>\n",
       "      <td>11379</td>\n",
       "      <td>2524</td>\n",
       "      <td>5653</td>\n",
       "      <td>11336</td>\n",
       "      <td>12871</td>\n",
       "      <td>11379</td>\n",
       "      <td>2524</td>\n",
       "      <td>5653</td>\n",
       "      <td>53.0</td>\n",
       "      <td>57.0</td>\n",
       "      <td>10.0</td>\n",
       "      <td>21.0</td>\n",
       "      <td>10.0</td>\n",
       "      <td>1285.905</td>\n",
       "      <td>618.27</td>\n",
       "      <td>1349.00</td>\n",
       "      <td>1337.70</td>\n",
       "      <td>582.070</td>\n",
       "      <td>1</td>\n",
       "    </tr>\n",
       "    <tr>\n",
       "      <th>4</th>\n",
       "      <td>026466cca4</td>\n",
       "      <td>1</td>\n",
       "      <td>1</td>\n",
       "      <td>26</td>\n",
       "      <td>0</td>\n",
       "      <td>14.1</td>\n",
       "      <td>4.4</td>\n",
       "      <td>17.3</td>\n",
       "      <td>5.0</td>\n",
       "      <td>8.4</td>\n",
       "      <td>0.0</td>\n",
       "      <td>0.0</td>\n",
       "      <td>-30.0</td>\n",
       "      <td>0.0</td>\n",
       "      <td>0.0</td>\n",
       "      <td>2046.90</td>\n",
       "      <td>698.865</td>\n",
       "      <td>2317.45</td>\n",
       "      <td>1029.14</td>\n",
       "      <td>1163.165</td>\n",
       "      <td>0.0</td>\n",
       "      <td>0.0</td>\n",
       "      <td>-100.0</td>\n",
       "      <td>0.0</td>\n",
       "      <td>0.0</td>\n",
       "      <td>16313</td>\n",
       "      <td>10810</td>\n",
       "      <td>42851</td>\n",
       "      <td>40393</td>\n",
       "      <td>10810</td>\n",
       "      <td>30166</td>\n",
       "      <td>10810</td>\n",
       "      <td>42286</td>\n",
       "      <td>40393</td>\n",
       "      <td>10810</td>\n",
       "      <td>2.0</td>\n",
       "      <td>1.0</td>\n",
       "      <td>2.0</td>\n",
       "      <td>1.0</td>\n",
       "      <td>2.0</td>\n",
       "      <td>832.970</td>\n",
       "      <td>537.63</td>\n",
       "      <td>1100.48</td>\n",
       "      <td>495.53</td>\n",
       "      <td>801.00</td>\n",
       "      <td>11822</td>\n",
       "      <td>12871</td>\n",
       "      <td>11822</td>\n",
       "      <td>11822</td>\n",
       "      <td>11336</td>\n",
       "      <td>11822</td>\n",
       "      <td>12871</td>\n",
       "      <td>11822</td>\n",
       "      <td>11822</td>\n",
       "      <td>11336</td>\n",
       "      <td>69.0</td>\n",
       "      <td>57.0</td>\n",
       "      <td>69.0</td>\n",
       "      <td>69.0</td>\n",
       "      <td>46.0</td>\n",
       "      <td>1529.200</td>\n",
       "      <td>618.27</td>\n",
       "      <td>2317.45</td>\n",
       "      <td>916.48</td>\n",
       "      <td>967.835</td>\n",
       "      <td>1</td>\n",
       "    </tr>\n",
       "  </tbody>\n",
       "</table>\n",
       "</div>"
      ],
      "text/plain": [
       "    client_id  treatment_flg  target  age  gender  m_1_rpr  m_11_rpr  \\\n",
       "0  00f6cab0d9              0       1   48       0     17.6       4.4   \n",
       "1  010c5002de              1       1   27       1      3.2       3.0   \n",
       "2  018253c9e4              0       0   78       0     16.4       0.0   \n",
       "3  02429418df              0       0   23       1     11.3       4.4   \n",
       "4  026466cca4              1       1   26       0     14.1       4.4   \n",
       "\n",
       "   m_12_rpr  m_2_rpr  m_3_rpr  m_1_eps  m_11_eps  m_12_eps  m_2_eps  m_3_eps  \\\n",
       "0      26.5     11.1     13.2      0.0       0.0       0.0      0.0      0.0   \n",
       "1       8.6      5.4      3.5    -30.0       0.0       0.0    -30.0      0.0   \n",
       "2      28.6     12.5      0.6      0.0       0.0       0.0      0.0      0.0   \n",
       "3      13.4     15.9      8.0      0.0       0.0       0.0      0.0      0.0   \n",
       "4      17.3      5.0      8.4      0.0       0.0     -30.0      0.0      0.0   \n",
       "\n",
       "    m_1_ps  m_11_ps  m_12_ps   m_2_ps    m_3_ps  m_1_rps  m_11_rps  m_12_rps  \\\n",
       "0  2533.37  698.865  2844.54  1360.99  1732.330      0.0       0.0       0.0   \n",
       "1   970.41  307.560  1537.70  1163.03   728.480    -24.0       0.0       0.0   \n",
       "2  1651.00  309.000  3077.00  1706.00   223.000      0.0    -309.0       0.0   \n",
       "3  1618.00  698.865  1349.00  1876.70   931.070      0.0       0.0       0.0   \n",
       "4  2046.90  698.865  2317.45  1029.14  1163.165      0.0       0.0    -100.0   \n",
       "\n",
       "   m_2_rps  m_3_rps  m_1_prd_qty_val  m_11_prd_qty_val  m_12_prd_qty_val  \\\n",
       "0      0.0      0.0            10810             10810             10810   \n",
       "1     -6.0      0.0            29983             13763             37180   \n",
       "2      0.0   -100.0            36778              4261             36258   \n",
       "3      0.0      0.0            10810             10810             13091   \n",
       "4      0.0      0.0            16313             10810             42851   \n",
       "\n",
       "   m_2_prd_qty_val  m_3_prd_qty_val  m_1_prd_pur  m_11_prd_pur  m_12_prd_pur  \\\n",
       "0            10810            10810        10810         10810         10810   \n",
       "1            13783            25083        29983         13763         26353   \n",
       "2            14501            42383        38892         19639         36258   \n",
       "3            10810            27821        10810         10810         13091   \n",
       "4            40393            10810        30166         10810         42286   \n",
       "\n",
       "   m_2_prd_pur  m_3_prd_pur  m_1_prd_pur_qty  m_11_prd_pur_qty  \\\n",
       "0        10810        10810              5.0               1.0   \n",
       "1        13783        17964              1.0               1.0   \n",
       "2        14501        42383              1.0               1.0   \n",
       "3        10810        12454              2.0               1.0   \n",
       "4        40393        10810              2.0               1.0   \n",
       "\n",
       "   m_12_prd_pur_qty  m_2_prd_pur_qty  m_3_prd_pur_qty  m_1_prd_pur_sum  \\\n",
       "0               4.0              3.0              3.0         2533.370   \n",
       "1               2.0              2.0              1.0          429.960   \n",
       "2               2.0              2.0              1.0          972.000   \n",
       "3               1.0              2.0              1.0         1002.405   \n",
       "4               2.0              1.0              2.0          832.970   \n",
       "\n",
       "   m_11_prd_pur_sum  m_12_prd_pur_sum  m_2_prd_pur_sum  m_3_prd_pur_sum  \\\n",
       "0            537.63           2844.54          1360.99          1601.13   \n",
       "1            307.56            588.62           619.36           318.85   \n",
       "2            179.00           2661.00           893.00           223.00   \n",
       "3            537.63           1349.00          1841.70           582.07   \n",
       "4            537.63           1100.48           495.53           801.00   \n",
       "\n",
       "   m_1_str_top_qty  m_11_str_top_qty  m_12_str_top_qty  m_2_str_top_qty  \\\n",
       "0             6022             12871              6022             6022   \n",
       "1             6960              6960              6960             6960   \n",
       "2            11440             11440             11440            11440   \n",
       "3            11336             12871             11379             2524   \n",
       "4            11822             12871             11822            11822   \n",
       "\n",
       "   m_3_str_top_qty  m_1_str_top_pur  m_11_str_top_pur  m_12_str_top_pur  \\\n",
       "0             6022             6022             12871              6022   \n",
       "1             6960             6960              6960              6960   \n",
       "2            11809            11809             11440             11440   \n",
       "3             5653            11336             12871             11379   \n",
       "4            11336            11822             12871             11822   \n",
       "\n",
       "   m_2_str_top_pur  m_3_str_top_pur  m_1_str_top_qty_val  \\\n",
       "0             6022             6022                 83.0   \n",
       "1             6960             6960                 40.0   \n",
       "2            11440            11809                 39.0   \n",
       "3             2524             5653                 53.0   \n",
       "4            11822            11336                 69.0   \n",
       "\n",
       "   m_11_str_top_qty_val  m_12_str_top_qty_val  m_2_str_top_qty_val  \\\n",
       "0                  57.0                  83.0                 83.0   \n",
       "1                  40.0                  40.0                 40.0   \n",
       "2                  39.0                  39.0                 39.0   \n",
       "3                  57.0                  10.0                 21.0   \n",
       "4                  57.0                  69.0                 69.0   \n",
       "\n",
       "   m_3_str_top_qty_val  m_1_str_top_pur_val  m_11_str_top_pur_val  \\\n",
       "0                 83.0             1811.240                618.27   \n",
       "1                 40.0              749.840                307.56   \n",
       "2                 28.0              972.000                309.00   \n",
       "3                 10.0             1285.905                618.27   \n",
       "4                 46.0             1529.200                618.27   \n",
       "\n",
       "   m_12_str_top_pur_val  m_2_str_top_pur_val  m_3_str_top_pur_val  age_group  \n",
       "0               2844.54              1360.99             1732.330          3  \n",
       "1               1537.70               764.03              728.480          1  \n",
       "2               2196.00               813.00              223.000          4  \n",
       "3               1349.00              1337.70              582.070          1  \n",
       "4               2317.45               916.48              967.835          1  "
      ]
     },
     "execution_count": 5,
     "metadata": {},
     "output_type": "execute_result"
    }
   ],
   "source": [
    "df_feature.head()"
   ]
  },
  {
   "cell_type": "code",
   "execution_count": 6,
   "metadata": {},
   "outputs": [],
   "source": [
    "# split dataset \n",
    "\n",
    "# train and validation \n",
    "X_train, X_val, trmnt_train, trmnt_val, y_train, y_val = train_test_split( df_feature.drop(['client_id','treatment_flg', 'target','age'],axis=1), df_feature['treatment_flg'], df_feature['target'], \n",
    "    test_size=0.4,\n",
    "    random_state=42\n",
    ")\n",
    "\n",
    "# test and validation \n",
    "X_val, X_test, trmnt_val, trmnt_test, y_val, y_test = train_test_split(X_val, trmnt_val , y_val,\n",
    "    test_size=0.5,\n",
    "    random_state=42\n",
    ")\n"
   ]
  },
  {
   "cell_type": "code",
   "execution_count": 7,
   "metadata": {},
   "outputs": [
    {
     "data": {
      "text/plain": [
       "((120023, 62), (40008, 62), (40008, 62))"
      ]
     },
     "execution_count": 7,
     "metadata": {},
     "output_type": "execute_result"
    }
   ],
   "source": [
    "X_train.shape, X_val.shape, X_test.shape"
   ]
  },
  {
   "cell_type": "markdown",
   "metadata": {},
   "source": [
    "#  conventional model "
   ]
  },
  {
   "cell_type": "code",
   "execution_count": 8,
   "metadata": {},
   "outputs": [
    {
     "name": "stdout",
     "output_type": "stream",
     "text": [
      "Wall time: 312 ms\n"
     ]
    },
    {
     "data": {
      "text/plain": [
       "<catboost.core.CatBoostClassifier at 0x2275a72e908>"
      ]
     },
     "execution_count": 8,
     "metadata": {},
     "output_type": "execute_result"
    }
   ],
   "source": [
    "%%time\n",
    "\n",
    "#catboost \n",
    "# model_cat_conv = CatBoostClassifier(iterations=1500,task_type=\"GPU\",cat_features=categorical_columns, verbose = 0, border_count = 150, l2_leaf_reg=5, depth =4,\n",
    "#                            devices='0:1', learning_rate=0.03)\n",
    "# model_cat_conv.fit(X_train,y_train, eval_set=(X_val, y_val))\n",
    "model_cat_conv = CatBoostClassifier(learning_rate=0.03, verbose = 0)\n",
    "# model_cat_conv.fit(X_train,y_train, eval_set=(X_val, y_val))\n",
    "# model_cat_conv.save_model('../../data/data/dft_catboost_feat_stg1',\n",
    "#            format=\"cbm\",\n",
    "#            export_parameters=None,\n",
    "#            pool=None)\n",
    "model_cat_conv.load_model('../../data/data/dft_catboost_feat_stg1')"
   ]
  },
  {
   "cell_type": "code",
   "execution_count": 9,
   "metadata": {},
   "outputs": [
    {
     "name": "stdout",
     "output_type": "stream",
     "text": [
      "CatBoost F1 \n",
      "f1 score for validation set 0.7768655992236779\n",
      "f1 score for test set 0.775350161913308\n"
     ]
    }
   ],
   "source": [
    "print('CatBoost F1 ')\n",
    "summary_f1(X_val,X_test,y_val,y_test,model_cat_conv)"
   ]
  },
  {
   "cell_type": "code",
   "execution_count": 32,
   "metadata": {},
   "outputs": [
    {
     "data": {
      "text/plain": [
       "<matplotlib.axes._subplots.AxesSubplot at 0x2276b71c240>"
      ]
     },
     "execution_count": 32,
     "metadata": {},
     "output_type": "execute_result"
    },
    {
     "data": {
      "image/png": "[encoded data removed]",
      "text/plain": [
       "<Figure size 432x288 with 1 Axes>"
      ]
     },
     "metadata": {
      "needs_background": "light"
     },
     "output_type": "display_data"
    }
   ],
   "source": [
    "predicted_probas = model_cat_conv.predict_proba(X_val)\n",
    "skplt.metrics.plot_cumulative_gain(y_val, predicted_probas)"
   ]
  },
  {
   "cell_type": "code",
   "execution_count": 23,
   "metadata": {},
   "outputs": [
    {
     "name": "stdout",
     "output_type": "stream",
     "text": [
      "Wall time: 36 ms\n"
     ]
    }
   ],
   "source": [
    "%%time\n",
    "model_xgb_conv = XGBClassifier(use_label_encoder=False, eval_metric='error', learning_rate = 0.03)\n",
    "# model_xgb_conv = model_xgb_conv.fit(X_train, y_train)\n",
    "# model_xgb_conv.save_model(\"../../data/data/dft_xgb_feat_stg1.json\")\n",
    "model_xgb_conv.load_model('../../data/data/dft_xgb_feat_stg1.json')"
   ]
  },
  {
   "cell_type": "code",
   "execution_count": 11,
   "metadata": {},
   "outputs": [
    {
     "name": "stdout",
     "output_type": "stream",
     "text": [
      "XGB F1 \n",
      "f1 score for validation set 0.7758248063498135\n",
      "f1 score for test set 0.7767441860465116\n"
     ]
    }
   ],
   "source": [
    "print('XGB F1 ')\n",
    "summary_f1(X_val,X_test,y_val,y_test,model_xgb_conv)"
   ]
  },
  {
   "cell_type": "code",
   "execution_count": 75,
   "metadata": {},
   "outputs": [
    {
     "data": {
      "image/png": "[encoded data removed]",
      "text/plain": [
       "<Figure size 432x288 with 1 Axes>"
      ]
     },
     "metadata": {
      "needs_background": "light"
     },
     "output_type": "display_data"
    }
   ],
   "source": [
    "predicted_probas = model_xgb_conv.predict_proba(X_val)\n",
    "# skplt.metrics.plot_cumulative_gain(y_val, predicted_probas)\n",
    "kds.metrics.plot_cumulative_gain(y_val, predicted_probas[:,1])"
   ]
  },
  {
   "cell_type": "code",
   "execution_count": 68,
   "metadata": {},
   "outputs": [
    {
     "data": {
      "text/plain": [
       "((40008,), (40008, 2))"
      ]
     },
     "execution_count": 68,
     "metadata": {},
     "output_type": "execute_result"
    }
   ],
   "source": [
    "y_val.shape, predicted_probas.shape"
   ]
  },
  {
   "cell_type": "code",
   "execution_count": 26,
   "metadata": {},
   "outputs": [],
   "source": [
    "# model_xgb_conv.save_model(\"../../data/data/dft_xgb_feat_stg1.json\")"
   ]
  },
  {
   "cell_type": "markdown",
   "metadata": {},
   "source": [
    "# uplift XGBoost"
   ]
  },
  {
   "cell_type": "code",
   "execution_count": 25,
   "metadata": {},
   "outputs": [
    {
     "name": "stdout",
     "output_type": "stream",
     "text": [
      "Wall time: 29 ms\n"
     ]
    }
   ],
   "source": [
    "%%time\n",
    "# Classtransformation \n",
    "# define approach\n",
    "# ct_xgb = ClassTransformation(XGBClassifier(random_state=777,eval_metric='error' ))\n",
    "# # fit the model\n",
    "# ct_xgb = ct_xgb.fit(X_train, y_train, trmnt_train)\n",
    "\n",
    "# save model \n",
    "filename = '../../data/data/up_ct_xgb_dft_catboost_feat_stg1.pickle'\n",
    "# pickle.dump(ct_xgb, open(filename, 'wb'))\n",
    "\n",
    "#load model \n",
    "ct_xgb = pickle.load(open(filename, 'rb'))"
   ]
  },
  {
   "cell_type": "code",
   "execution_count": 26,
   "metadata": {},
   "outputs": [
    {
     "name": "stdout",
     "output_type": "stream",
     "text": [
      "F1 XGBoost class transformation\n",
      "f1 score for validation set 0.6101492537313433\n",
      "f1 score for test set 0.6079131666633413\n"
     ]
    }
   ],
   "source": [
    "print('F1 XGBoost class transformation')\n",
    "summary_f1_uplift(X_val,X_test,y_val,y_test,ct_xgb)"
   ]
  },
  {
   "cell_type": "code",
   "execution_count": 81,
   "metadata": {},
   "outputs": [
    {
     "data": {
      "image/png": "[encoded data removed]",
      "text/plain": [
       "<Figure size 432x288 with 1 Axes>"
      ]
     },
     "metadata": {
      "needs_background": "light"
     },
     "output_type": "display_data"
    }
   ],
   "source": [
    "# scaler = MinMaxScaler()\n",
    "# predicted_probas = ct_xgb.predict(X_val)\n",
    "# predicted_probas =  scaler.fit_transform(ct_xgb.predict(X_val).reshape(-1,1))\n",
    "# skplt.metrics.plot_cumulative_gain(y_val, predicted_probas[:, 0])\n",
    "\n",
    "uplift_predicted = ct_xgb.predict(X_test)\n",
    "\n",
    "uplift_disp = plot_uplift_curve(\n",
    "    y_test, uplift_predicted, trmnt_test,\n",
    "    perfect=True, name='Model name'\n",
    ");\n",
    "\n",
    "uplift_disp.figure_.suptitle(\"Uplift curve\");"
   ]
  },
  {
   "cell_type": "code",
   "execution_count": 84,
   "metadata": {},
   "outputs": [
    {
     "data": {
      "image/png": "[encoded data removed]",
      "text/plain": [
       "<Figure size 432x288 with 1 Axes>"
      ]
     },
     "metadata": {
      "needs_background": "light"
     },
     "output_type": "display_data"
    }
   ],
   "source": [
    "qini_disp = plot_qini_curve(\n",
    "    y_test, uplift_predicted, trmnt_test,\n",
    "    perfect=True, name='Model name'\n",
    ");\n",
    "\n",
    "qini_disp.figure_.suptitle(\"Qini curve\");"
   ]
  },
  {
   "cell_type": "code",
   "execution_count": 86,
   "metadata": {},
   "outputs": [
    {
     "name": "stdout",
     "output_type": "stream",
     "text": [
      "uplift@30%: 0.0291\n"
     ]
    }
   ],
   "source": [
    "uplift_predictions  = ct_xgb.predict(X_val)\n",
    "\n",
    "uplift_30 = uplift_at_k(y_val, uplift_predictions, trmnt_val, strategy='overall')\n",
    "print(f'uplift@30%: {uplift_30:.4f}')"
   ]
  },
  {
   "cell_type": "code",
   "execution_count": 88,
   "metadata": {},
   "outputs": [
    {
     "data": {
      "text/plain": [
       "0.006525132735887514"
      ]
     },
     "execution_count": 88,
     "metadata": {},
     "output_type": "execute_result"
    }
   ],
   "source": [
    "uplift_auc_score(y_val, uplift_predictions, trmnt_val)"
   ]
  },
  {
   "cell_type": "code",
   "execution_count": 27,
   "metadata": {},
   "outputs": [
    {
     "name": "stdout",
     "output_type": "stream",
     "text": [
      "Wall time: 71 ms\n"
     ]
    }
   ],
   "source": [
    "%%time\n",
    "# two model \n",
    "\n",
    "estimator_trmnt_xgb = XGBClassifier(random_state=777,eval_metric='error' )\n",
    "estimator_ctrl_xgb = XGBClassifier(random_state=777,eval_metric='error' )\n",
    "\n",
    "\n",
    "# define approach\n",
    "tm_ctrl_xgb = TwoModels(\n",
    "    estimator_trmnt=estimator_trmnt_xgb,\n",
    "    estimator_ctrl=estimator_ctrl_xgb,\n",
    "    method='ddr_control'\n",
    ")\n",
    "\n",
    "# tm_ctrl_xgb = tm_ctrl_xgb.fit(\n",
    "#     X_train, y_train, trmnt_train\n",
    "# )\n",
    "\n",
    "# save model \n",
    "filename = '../../data/data/up_tm_xgb_dft_catboost_feat_stg1.pickle'\n",
    "# pickle.dump(tm_ctrl_xgb, open(filename, 'wb'))\n",
    "\n",
    "#load model \n",
    "tm_ctrl_xgb = pickle.load(open(filename, 'rb'))"
   ]
  },
  {
   "cell_type": "code",
   "execution_count": 16,
   "metadata": {},
   "outputs": [
    {
     "name": "stdout",
     "output_type": "stream",
     "text": [
      "F1 XGBoost two model\n",
      "f1 score for validation set 0.615915013028663\n",
      "f1 score for test set 0.6195515192734692\n"
     ]
    }
   ],
   "source": [
    "print('F1 XGBoost two model')\n",
    "summary_f1_uplift(X_val,X_test,y_val,y_test,tm_ctrl_xgb)"
   ]
  },
  {
   "cell_type": "code",
   "execution_count": 89,
   "metadata": {},
   "outputs": [
    {
     "data": {
      "text/plain": [
       "0.007326151696090458"
      ]
     },
     "execution_count": 89,
     "metadata": {},
     "output_type": "execute_result"
    }
   ],
   "source": [
    "uplift_predictions  = tm_ctrl_xgb.predict(X_val)\n",
    "uplift_auc_score(y_val, uplift_predictions, trmnt_val)"
   ]
  },
  {
   "cell_type": "markdown",
   "metadata": {},
   "source": [
    "# uplift Catboost"
   ]
  },
  {
   "cell_type": "code",
   "execution_count": 17,
   "metadata": {},
   "outputs": [
    {
     "name": "stdout",
     "output_type": "stream",
     "text": [
      "Wall time: 17 ms\n"
     ]
    }
   ],
   "source": [
    "%%time\n",
    "# Classtransformation \n",
    "# define approach\n",
    "# ct_cat = ClassTransformation(CatBoostClassifier(verbose=0, random_state=777))\n",
    "# # fit the model\n",
    "# ct_cat = ct_cat.fit(X_train, y_train, trmnt_train)\n",
    "\n",
    "# save model \n",
    "filename = '../../data/data/up_ct_cat_dft_catboost_feat_stg1.pickle'\n",
    "# pickle.dump(ct_cat, open(filename, 'wb'))\n",
    "\n",
    "# #load model \n",
    "ct_cat = pickle.load(open(filename, 'rb'))"
   ]
  },
  {
   "cell_type": "code",
   "execution_count": 18,
   "metadata": {},
   "outputs": [
    {
     "name": "stdout",
     "output_type": "stream",
     "text": [
      "F1 Catboost class transformation\n",
      "f1 score for validation set 0.6177533754078822\n",
      "f1 score for test set 0.6201559454191033\n"
     ]
    }
   ],
   "source": [
    "print('F1 Catboost class transformation')\n",
    "summary_f1_uplift(X_val,X_test,y_val,y_test,ct_cat)"
   ]
  },
  {
   "cell_type": "code",
   "execution_count": 90,
   "metadata": {},
   "outputs": [
    {
     "data": {
      "text/plain": [
       "0.008583969067916102"
      ]
     },
     "execution_count": 90,
     "metadata": {},
     "output_type": "execute_result"
    }
   ],
   "source": [
    "uplift_predictions  = ct_cat.predict(X_val)\n",
    "uplift_auc_score(y_val, uplift_predictions, trmnt_val)"
   ]
  },
  {
   "cell_type": "code",
   "execution_count": 92,
   "metadata": {},
   "outputs": [
    {
     "name": "stdout",
     "output_type": "stream",
     "text": [
      "Wall time: 1min 26s\n"
     ]
    }
   ],
   "source": [
    "%%time\n",
    "# two model \n",
    "\n",
    "estimator_trmnt_cat = CatBoostClassifier(silent=True, thread_count=2, random_state=42)\n",
    "estimator_ctrl_cat = CatBoostClassifier(silent=True, thread_count=2, random_state=42)\n",
    "\n",
    "# define approach\n",
    "tm_ctrl_cat = TwoModels(\n",
    "    estimator_trmnt=estimator_trmnt_cat,\n",
    "    estimator_ctrl=estimator_ctrl_cat,\n",
    "    method='ddr_control'\n",
    ")\n",
    "\n",
    "tm_ctrl_cat = tm_ctrl_cat.fit(\n",
    "    X_train, y_train, trmnt_train\n",
    ")\n",
    "\n",
    "# save model \n",
    "filename = '../../data/data/up_tm_cat_dft_catboost_feat_stg1.pickle'\n",
    "pickle.dump(tm_ctrl_cat, open(filename, 'wb'))\n",
    "\n",
    "# #load model \n",
    "tm_ctrl_cat = pickle.load(open(filename, 'rb'))"
   ]
  },
  {
   "cell_type": "code",
   "execution_count": 93,
   "metadata": {},
   "outputs": [
    {
     "name": "stdout",
     "output_type": "stream",
     "text": [
      "F1 Catboost two model\n",
      "f1 score for validation set 0.6690188172043011\n",
      "f1 score for test set 0.6662422052021498\n"
     ]
    }
   ],
   "source": [
    "print('F1 Catboost two model')\n",
    "summary_f1_uplift(X_val,X_test,y_val,y_test,tm_ctrl_cat)"
   ]
  },
  {
   "cell_type": "code",
   "execution_count": 94,
   "metadata": {},
   "outputs": [
    {
     "data": {
      "text/plain": [
       "0.01688208298056799"
      ]
     },
     "execution_count": 94,
     "metadata": {},
     "output_type": "execute_result"
    }
   ],
   "source": [
    "uplift_predictions  = tm_ctrl_cat.predict(X_val)\n",
    "uplift_auc_score(y_val, uplift_predictions, trmnt_val)"
   ]
  },
  {
   "cell_type": "code",
   "execution_count": null,
   "metadata": {},
   "outputs": [],
   "source": []
  }
 ],
 "metadata": {
  "kernelspec": {
   "display_name": "Python 3",
   "language": "python",
   "name": "python3"
  },
  "language_info": {
   "codemirror_mode": {
    "name": "ipython",
    "version": 3
   },
   "file_extension": ".py",
   "mimetype": "text/x-python",
   "name": "python",
   "nbconvert_exporter": "python",
   "pygments_lexer": "ipython3",
   "version": "3.6.9"
  }
 },
 "nbformat": 4,
 "nbformat_minor": 4
}
