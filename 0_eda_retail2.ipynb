{
 "cells": [
  {
   "cell_type": "code",
   "execution_count": 1,
   "metadata": {},
   "outputs": [],
   "source": [
    "import findspark\n",
    "findspark.init()\n",
    "import datetime as dt\n",
    "\n",
    "import pandas as pd \n",
    "import pyspark\n",
    "from pyspark import SparkContext, SparkConf\n",
    "from pyspark.sql import SparkSession\n",
    "from pyspark.sql.types import *\n",
    "import pyspark.sql.functions as fn\n",
    "from pyspark.sql.window import Window\n",
    "\n",
    "from pyspark.sql.functions import udf"
   ]
  },
  {
   "cell_type": "code",
   "execution_count": 2,
   "metadata": {},
   "outputs": [],
   "source": [
    "def equivalent_type(f):\n",
    "    if f == 'datetime64[ns]': return DateType()\n",
    "    elif f == 'int64': return LongType()\n",
    "    elif f == 'int32': return IntegerType()\n",
    "    elif f == 'float64': return FloatType()\n",
    "    else: return StringType()\n",
    "\n",
    "def define_structure(string, format_type):\n",
    "    try: typo = equivalent_type(format_type)\n",
    "    except: typo = StringType()\n",
    "    return StructField(string, typo)\n",
    "\n",
    "\n",
    "# Given pandas dataframe, it will return a spark's dataframe.\n",
    "def pandas_to_spark(pandas_df,sparkSession):\n",
    "    columns = list(pandas_df.columns)\n",
    "    types = list(pandas_df.dtypes)\n",
    "    struct_list = []\n",
    "    i = 0\n",
    "    for column, typo in zip(columns, types): \n",
    "        struct_list.append(define_structure(column, typo))\n",
    "    p_schema = StructType(struct_list)\n",
    "    return sparkSession.createDataFrame(pandas_df, p_schema)"
   ]
  },
  {
   "cell_type": "code",
   "execution_count": 3,
   "metadata": {},
   "outputs": [],
   "source": [
    "# start spark engine \n",
    "conf = pyspark.SparkConf().setAppName('tes_spark').setMaster('local')\n",
    "sc = pyspark.SparkContext.getOrCreate(conf=conf)\n",
    "spark = SparkSession(sc)"
   ]
  },
  {
   "cell_type": "code",
   "execution_count": 154,
   "metadata": {},
   "outputs": [],
   "source": [
    "# customer information \n",
    "df_cli = spark \\\n",
    "    .read.format(\"com.databricks.spark.csv\")\\\n",
    "    .option(\"header\", \"true\")\\\n",
    "    .option(\"inferschema\", \"true\")\\\n",
    "    .option(\"delimiter\", \",\")\\\n",
    "    .load(\"../../data/data/clients.csv\")"
   ]
  },
  {
   "cell_type": "code",
   "execution_count": 5,
   "metadata": {},
   "outputs": [],
   "source": [
    "# customer flag \n",
    "df_up_train = spark \\\n",
    "    .read.format(\"com.databricks.spark.csv\")\\\n",
    "    .option(\"header\", \"true\")\\\n",
    "    .option(\"inferschema\", \"true\")\\\n",
    "    .option(\"delimiter\", \",\")\\\n",
    "    .load(\"../../data/data/uplift_train.csv\")"
   ]
  },
  {
   "cell_type": "code",
   "execution_count": 6,
   "metadata": {},
   "outputs": [],
   "source": [
    "# custommer id for testing\n",
    "df_up_test = spark \\\n",
    "    .read.format(\"com.databricks.spark.csv\")\\\n",
    "    .option(\"header\", \"true\")\\\n",
    "    .option(\"inferschema\", \"true\")\\\n",
    "    .option(\"delimiter\", \",\")\\\n",
    "    .load(\"../../data/data/uplift_test.csv\")"
   ]
  },
  {
   "cell_type": "code",
   "execution_count": 7,
   "metadata": {},
   "outputs": [],
   "source": [
    "# product information\n",
    "df_pro = spark \\\n",
    "    .read.format(\"com.databricks.spark.csv\")\\\n",
    "    .option(\"header\", \"true\")\\\n",
    "    .option(\"inferschema\", \"true\")\\\n",
    "    .option(\"delimiter\", \",\")\\\n",
    "    .load(\"../../data/data/products.csv\")"
   ]
  },
  {
   "cell_type": "code",
   "execution_count": 8,
   "metadata": {},
   "outputs": [],
   "source": [
    "# purchase transactional data \n",
    "df_pur = spark \\\n",
    "    .read.format(\"com.databricks.spark.csv\")\\\n",
    "    .option(\"header\", \"true\")\\\n",
    "    .option(\"inferschema\", \"true\")\\\n",
    "    .option(\"delimiter\", \",\")\\\n",
    "    .load(\"../../data/data/purchases.csv\")"
   ]
  },
  {
   "cell_type": "code",
   "execution_count": 165,
   "metadata": {},
   "outputs": [],
   "source": [
    "tes_df = spark \\\n",
    "    .read.format(\"com.databricks.spark.csv\")\\\n",
    "    .option(\"header\", \"true\")\\\n",
    "    .option(\"inferschema\", \"true\")\\\n",
    "    .option(\"delimiter\", \",\")\\\n",
    "    .load(\"D:/works/master_tilburg/dss/thesis/data/feature_stg2.csv\")"
   ]
  },
  {
   "cell_type": "code",
   "execution_count": 167,
   "metadata": {},
   "outputs": [
    {
     "data": {
      "text/html": [
       "<div>\n",
       "<style scoped>\n",
       "    .dataframe tbody tr th:only-of-type {\n",
       "        vertical-align: middle;\n",
       "    }\n",
       "\n",
       "    .dataframe tbody tr th {\n",
       "        vertical-align: top;\n",
       "    }\n",
       "\n",
       "    .dataframe thead th {\n",
       "        text-align: right;\n",
       "    }\n",
       "</style>\n",
       "<table border=\"1\" class=\"dataframe\">\n",
       "  <thead>\n",
       "    <tr style=\"text-align: right;\">\n",
       "      <th></th>\n",
       "      <th>client_id</th>\n",
       "      <th>regular_points_received</th>\n",
       "      <th>express_points_spent</th>\n",
       "      <th>purchase_sum</th>\n",
       "      <th>avg_n_prod</th>\n",
       "      <th>avg_n_prod_qty</th>\n",
       "      <th>trn_sum_from_iss</th>\n",
       "      <th>trn_sum_from_red</th>\n",
       "      <th>n_transaction</th>\n",
       "      <th>store_id_pur</th>\n",
       "      <th>s_purchase_sum</th>\n",
       "      <th>store_id_pur_qty</th>\n",
       "      <th>store_n_product</th>\n",
       "      <th>product_pur</th>\n",
       "      <th>s_purchase</th>\n",
       "      <th>product_qty</th>\n",
       "      <th>n_product</th>\n",
       "    </tr>\n",
       "  </thead>\n",
       "  <tbody>\n",
       "    <tr>\n",
       "      <th>0</th>\n",
       "      <td>02429418df</td>\n",
       "      <td>37.3</td>\n",
       "      <td>0.0</td>\n",
       "      <td>4156.77</td>\n",
       "      <td>8.500000</td>\n",
       "      <td>62.0</td>\n",
       "      <td>539.914286</td>\n",
       "      <td>0.0</td>\n",
       "      <td>6</td>\n",
       "      <td>d09acf8114</td>\n",
       "      <td>1349.00</td>\n",
       "      <td>2fe93e36be</td>\n",
       "      <td>21</td>\n",
       "      <td>4009f09b04</td>\n",
       "      <td>3190.70</td>\n",
       "      <td>4009f09b04</td>\n",
       "      <td>3</td>\n",
       "    </tr>\n",
       "    <tr>\n",
       "      <th>1</th>\n",
       "      <td>02d6c08e7d</td>\n",
       "      <td>5.9</td>\n",
       "      <td>0.0</td>\n",
       "      <td>747.00</td>\n",
       "      <td>1.888889</td>\n",
       "      <td>30.0</td>\n",
       "      <td>500.583333</td>\n",
       "      <td>0.0</td>\n",
       "      <td>9</td>\n",
       "      <td>7763d9b151</td>\n",
       "      <td>721.00</td>\n",
       "      <td>7763d9b151</td>\n",
       "      <td>8</td>\n",
       "      <td>21e8f864ff</td>\n",
       "      <td>506.00</td>\n",
       "      <td>21e8f864ff</td>\n",
       "      <td>7</td>\n",
       "    </tr>\n",
       "    <tr>\n",
       "      <th>2</th>\n",
       "      <td>03f35da9a5</td>\n",
       "      <td>30.2</td>\n",
       "      <td>0.0</td>\n",
       "      <td>5661.85</td>\n",
       "      <td>3.647059</td>\n",
       "      <td>87.0</td>\n",
       "      <td>1455.900000</td>\n",
       "      <td>0.0</td>\n",
       "      <td>17</td>\n",
       "      <td>04d336aec5</td>\n",
       "      <td>5661.85</td>\n",
       "      <td>04d336aec5</td>\n",
       "      <td>47</td>\n",
       "      <td>222c727a1d</td>\n",
       "      <td>2090.06</td>\n",
       "      <td>222c727a1d</td>\n",
       "      <td>4</td>\n",
       "    </tr>\n",
       "  </tbody>\n",
       "</table>\n",
       "</div>"
      ],
      "text/plain": [
       "    client_id  regular_points_received  express_points_spent  purchase_sum  \\\n",
       "0  02429418df                     37.3                   0.0       4156.77   \n",
       "1  02d6c08e7d                      5.9                   0.0        747.00   \n",
       "2  03f35da9a5                     30.2                   0.0       5661.85   \n",
       "\n",
       "   avg_n_prod  avg_n_prod_qty  trn_sum_from_iss  trn_sum_from_red  \\\n",
       "0    8.500000            62.0        539.914286               0.0   \n",
       "1    1.888889            30.0        500.583333               0.0   \n",
       "2    3.647059            87.0       1455.900000               0.0   \n",
       "\n",
       "   n_transaction store_id_pur  s_purchase_sum store_id_pur_qty  \\\n",
       "0              6   d09acf8114         1349.00       2fe93e36be   \n",
       "1              9   7763d9b151          721.00       7763d9b151   \n",
       "2             17   04d336aec5         5661.85       04d336aec5   \n",
       "\n",
       "   store_n_product product_pur  s_purchase product_qty  n_product  \n",
       "0               21  4009f09b04     3190.70  4009f09b04          3  \n",
       "1                8  21e8f864ff      506.00  21e8f864ff          7  \n",
       "2               47  222c727a1d     2090.06  222c727a1d          4  "
      ]
     },
     "execution_count": 167,
     "metadata": {},
     "output_type": "execute_result"
    }
   ],
   "source": [
    "tes_df.limit(3).toPandas()"
   ]
  },
  {
   "cell_type": "code",
   "execution_count": 32,
   "metadata": {},
   "outputs": [
    {
     "data": {
      "text/plain": [
       "datetime.date(2019, 11, 20)"
      ]
     },
     "execution_count": 32,
     "metadata": {},
     "output_type": "execute_result"
    }
   ],
   "source": [
    "dt.date(2019, 11, 20)"
   ]
  },
  {
   "cell_type": "code",
   "execution_count": 31,
   "metadata": {},
   "outputs": [
    {
     "data": {
      "text/plain": [
       "datetime.datetime(2019, 11, 20, 12, 37, 56)"
      ]
     },
     "execution_count": 31,
     "metadata": {},
     "output_type": "execute_result"
    }
   ],
   "source": [
    "dt.datetime(2019, 11, 20, 12,37,56)"
   ]
  },
  {
   "cell_type": "markdown",
   "metadata": {},
   "source": [
    "# start "
   ]
  },
  {
   "cell_type": "code",
   "execution_count": 155,
   "metadata": {},
   "outputs": [],
   "source": [
    "# fill missing value in first redeem date with max date \n",
    "df_cli = df_cli.withColumn('first_redeem_date2', fn.when(fn.col('first_redeem_date').isNull(), dt.datetime(2019, 11, 20, 12,37,56)).otherwise(fn.col('first_redeem_date')))\n",
    "df_cli = df_cli.drop('first_redeem_date')\n",
    "df_cli = df_cli.withColumnRenamed('first_redeem_date2','first_redeem_date')\n",
    "df_cli = df_cli.withColumn(\"first_redeem_date\", fn.to_date(fn.col(\"first_redeem_date\")))\n",
    "\n",
    "# fill na values in purchase \n",
    "df_pur =  df_pur.fillna(value=0,subset=[\"trn_sum_from_red\"])"
   ]
  },
  {
   "cell_type": "code",
   "execution_count": 146,
   "metadata": {},
   "outputs": [
    {
     "name": "stdout",
     "output_type": "stream",
     "text": [
      "root\n",
      " |-- client_id: string (nullable = true)\n",
      " |-- first_issue_date: string (nullable = true)\n",
      " |-- age: integer (nullable = true)\n",
      " |-- gender: string (nullable = true)\n",
      " |-- first_redeem_date: date (nullable = true)\n",
      "\n"
     ]
    }
   ],
   "source": [
    "df_cli.printSchema()"
   ]
  },
  {
   "cell_type": "code",
   "execution_count": 135,
   "metadata": {},
   "outputs": [
    {
     "data": {
      "text/plain": [
       "400162"
      ]
     },
     "execution_count": 135,
     "metadata": {},
     "output_type": "execute_result"
    }
   ],
   "source": [
    "df_cli.count()"
   ]
  },
  {
   "cell_type": "code",
   "execution_count": 147,
   "metadata": {},
   "outputs": [
    {
     "data": {
      "text/plain": [
       "200039"
      ]
     },
     "execution_count": 147,
     "metadata": {},
     "output_type": "execute_result"
    }
   ],
   "source": [
    "df_up_train.count()"
   ]
  },
  {
   "cell_type": "code",
   "execution_count": 158,
   "metadata": {},
   "outputs": [],
   "source": [
    "# join client and purchase \n",
    "df_cli = df_cli.withColumnRenamed('client_id','client_id2')\n",
    "\n",
    "df_cli_pur = df_cli.select('client_id2','first_redeem_date').join(df_pur,df_cli.client_id2 == df_pur.client_id,'inner')\n",
    "df_cli_pur = df_cli_pur.drop('client_id2')\n",
    "\n",
    "# keep transactiion before redeem date \n",
    "df_cli_pur = df_cli_pur.withColumn(\"transaction_datetime\", fn.to_date(fn.col(\"transaction_datetime\")))\n",
    "df_cli_pur = df_cli_pur.withColumn('drop_transaction',fn.when(fn.col('transaction_datetime') < fn.col('first_redeem_date'),1).otherwise(0)) # 1 keep, 0 remove \n",
    "\n",
    "# add target \n",
    "df_up_train = df_up_train.withColumnRenamed('client_id','client_id2')\n",
    "df_cli_pur = df_cli_pur.join(df_up_train,df_cli_pur.client_id==df_up_train.client_id2,'inner')\n",
    "df_cli_pur = df_cli_pur.drop('client_id2')\n",
    "\n",
    "# keep transaction before redeem date \n",
    "df_cli_pur = df_cli_pur.filter(df_cli_pur.drop_transaction == 1)"
   ]
  },
  {
   "cell_type": "code",
   "execution_count": 151,
   "metadata": {},
   "outputs": [
    {
     "data": {
      "text/html": [
       "<div>\n",
       "<style scoped>\n",
       "    .dataframe tbody tr th:only-of-type {\n",
       "        vertical-align: middle;\n",
       "    }\n",
       "\n",
       "    .dataframe tbody tr th {\n",
       "        vertical-align: top;\n",
       "    }\n",
       "\n",
       "    .dataframe thead th {\n",
       "        text-align: right;\n",
       "    }\n",
       "</style>\n",
       "<table border=\"1\" class=\"dataframe\">\n",
       "  <thead>\n",
       "    <tr style=\"text-align: right;\">\n",
       "      <th></th>\n",
       "      <th>target</th>\n",
       "      <th>treatment_flg</th>\n",
       "      <th>drop_transaction</th>\n",
       "      <th>count(client_id)</th>\n",
       "    </tr>\n",
       "  </thead>\n",
       "  <tbody>\n",
       "    <tr>\n",
       "      <th>0</th>\n",
       "      <td>0</td>\n",
       "      <td>1</td>\n",
       "      <td>1</td>\n",
       "      <td>15032</td>\n",
       "    </tr>\n",
       "    <tr>\n",
       "      <th>1</th>\n",
       "      <td>0</td>\n",
       "      <td>0</td>\n",
       "      <td>0</td>\n",
       "      <td>29165</td>\n",
       "    </tr>\n",
       "    <tr>\n",
       "      <th>2</th>\n",
       "      <td>1</td>\n",
       "      <td>0</td>\n",
       "      <td>1</td>\n",
       "      <td>19993</td>\n",
       "    </tr>\n",
       "    <tr>\n",
       "      <th>3</th>\n",
       "      <td>1</td>\n",
       "      <td>1</td>\n",
       "      <td>1</td>\n",
       "      <td>21141</td>\n",
       "    </tr>\n",
       "    <tr>\n",
       "      <th>4</th>\n",
       "      <td>1</td>\n",
       "      <td>0</td>\n",
       "      <td>0</td>\n",
       "      <td>50675</td>\n",
       "    </tr>\n",
       "    <tr>\n",
       "      <th>5</th>\n",
       "      <td>1</td>\n",
       "      <td>1</td>\n",
       "      <td>0</td>\n",
       "      <td>53320</td>\n",
       "    </tr>\n",
       "    <tr>\n",
       "      <th>6</th>\n",
       "      <td>0</td>\n",
       "      <td>1</td>\n",
       "      <td>0</td>\n",
       "      <td>26732</td>\n",
       "    </tr>\n",
       "    <tr>\n",
       "      <th>7</th>\n",
       "      <td>0</td>\n",
       "      <td>0</td>\n",
       "      <td>1</td>\n",
       "      <td>16658</td>\n",
       "    </tr>\n",
       "  </tbody>\n",
       "</table>\n",
       "</div>"
      ],
      "text/plain": [
       "   target  treatment_flg  drop_transaction  count(client_id)\n",
       "0       0              1                 1             15032\n",
       "1       0              0                 0             29165\n",
       "2       1              0                 1             19993\n",
       "3       1              1                 1             21141\n",
       "4       1              0                 0             50675\n",
       "5       1              1                 0             53320\n",
       "6       0              1                 0             26732\n",
       "7       0              0                 1             16658"
      ]
     },
     "execution_count": 151,
     "metadata": {},
     "output_type": "execute_result"
    }
   ],
   "source": [
    "df_cli_pur.groupby('target','treatment_flg','drop_transaction').agg(fn.countDistinct('client_id')).toPandas()"
   ]
  },
  {
   "cell_type": "code",
   "execution_count": 159,
   "metadata": {},
   "outputs": [],
   "source": [
    "# feature aggregation by transaction \n",
    "df_feature = df_cli_pur.groupby('client_id','transaction_id').agg(fn.avg('regular_points_received').alias('regular_points_received'), fn.avg('express_points_spent').alias('express_points_spent') \\\n",
    "                                                                 ,fn.avg('purchase_sum').alias('purchase_sum'),fn.countDistinct('product_id').alias('n_prod')\\\n",
    "                                                                 ,fn.sum('product_quantity').alias('product_quantity'),fn.avg('trn_sum_from_iss').alias('trn_sum_from_iss'),fn.avg('trn_sum_from_red').alias('trn_sum_from_red'))\n",
    "\n",
    "df_feature = df_feature.groupby('client_id').agg(fn.sum('regular_points_received').alias('regular_points_received'),fn.sum('express_points_spent').alias('express_points_spent')\\\n",
    "                                                ,fn.sum('purchase_sum').alias('purchase_sum'),fn.avg('n_prod').alias('avg_n_prod'),fn.sum('product_quantity').alias('avg_n_prod_qty')\\\n",
    "                                                ,fn.sum('trn_sum_from_iss').alias('trn_sum_from_iss'),fn.sum('trn_sum_from_red').alias('trn_sum_from_red'), fn.countDistinct('transaction_id').alias('n_transaction'))\n"
   ]
  },
  {
   "cell_type": "code",
   "execution_count": 160,
   "metadata": {},
   "outputs": [],
   "source": [
    "# top product transactions\n",
    "df_top_product =df_cli_pur.select('client_id','product_id','purchase_sum').groupby('client_id','product_id')\\\n",
    "                .agg(fn.count('product_id').alias('n_product'),fn.sum('purchase_sum').alias('s_purchase'))\n",
    "\n",
    "# adding row number on purchase and quantity \n",
    "df_top_product = df_top_product.withColumn(\"rank_pur\", fn.row_number().over(Window.partitionBy(\"client_id\").orderBy(fn.col(\"s_purchase\").desc())))\n",
    "df_top_product = df_top_product.withColumn(\"rank_qty\", fn.row_number().over(Window.partitionBy(\"client_id\").orderBy(fn.col(\"n_product\").desc())))\n",
    "\n",
    "# filter top product by purchase\n",
    "df_top_product_purchase = df_top_product.filter(df_top_product.rank_pur == 1)\n",
    "\n",
    "# filter top product by quantity\n",
    "df_top_product_qty = df_top_product.filter(df_top_product.rank_qty == 1)"
   ]
  },
  {
   "cell_type": "code",
   "execution_count": 161,
   "metadata": {},
   "outputs": [],
   "source": [
    "# favorite store \n",
    "df_store_gb = df_cli_pur.select('client_id','transaction_id','store_id','purchase_sum','product_id').groupby('client_id','transaction_id','store_id')\\\n",
    "                    .agg(fn.avg('purchase_sum').alias('s_purchase_sum'), fn.countDistinct('product_id').alias('n_prod_id'))\n",
    "\n",
    "# \n",
    "df_store_gb = df_store_gb.select('client_id','transaction_id','store_id','s_purchase_sum','n_prod_id').groupby('client_id','store_id')\\\n",
    "              .agg(fn.sum('s_purchase_sum').alias('s_purchase_sum'), fn.avg('n_prod_id').alias('avg_n_prod_id'))                  \n",
    "\n",
    "# unique product per store \n",
    "df_store_gb2 = df_cli_pur.select('client_id','store_id','product_id').groupby('client_id','store_id').agg(fn.countDistinct('product_id').alias('n_product'))\n",
    "df_store_gb2 = df_store_gb2.withColumnRenamed('client_id','client_id2').withColumnRenamed('store_id','store_id2')\n",
    "\n",
    "# join with with unique product for each store \n",
    "df_store_gb = df_store_gb.join(df_store_gb2, (df_store_gb.client_id == df_store_gb2.client_id2) & (df_store_gb.store_id == df_store_gb2.store_id2) , 'inner')\n",
    "\n",
    "df_store_gb = df_store_gb.drop('client_id2','store_id2')\n",
    "\n",
    "# put ranking \n",
    "df_store_gb_rank = df_store_gb.withColumn(\"rank_s_purchase\", fn.row_number().over(Window.partitionBy(\"client_id\").orderBy(fn.col(\"s_purchase_sum\").desc())))\n",
    "df_store_gb_rank = df_store_gb_rank.withColumn(\"rank_prod_qty\", fn.row_number().over(Window.partitionBy(\"client_id\").orderBy(fn.col(\"n_product\").desc())))\n",
    "\n",
    "\n",
    "# filter top product by purchase\n",
    "df_store_gb_top_pur = df_store_gb_rank.filter(df_store_gb_rank.rank_s_purchase == 1)\n",
    "\n",
    "# filter top product by quantity\n",
    "df_store_gb_top_qty = df_store_gb_rank.filter(df_store_gb_rank.rank_prod_qty == 1)"
   ]
  },
  {
   "cell_type": "code",
   "execution_count": 162,
   "metadata": {},
   "outputs": [],
   "source": [
    "# join new feature store and products\n",
    "\n",
    "# store purchase \n",
    "df_store_gb_top_pur = df_store_gb_top_pur.withColumnRenamed('client_id','client_id2')\n",
    "df_feature = df_feature.join(df_store_gb_top_pur.select('client_id2','store_id','s_purchase_sum'),df_feature.client_id == df_store_gb_top_pur.client_id2,'left' )\n",
    "df_feature = df_feature.drop('client_id2')\n",
    "df_feature = df_feature.withColumnRenamed('store_id','store_id_pur')\n",
    "\n",
    "# store quantity \n",
    "df_store_gb_top_qty = df_store_gb_top_qty.withColumnRenamed('client_id','client_id2')\n",
    "df_feature = df_feature.join(df_store_gb_top_qty.select('client_id2','store_id','n_product'),df_feature.client_id == df_store_gb_top_qty.client_id2,'left' )\n",
    "df_feature = df_feature.drop('client_id2')\n",
    "df_feature = df_feature.withColumnRenamed('store_id','store_id_pur_qty').withColumnRenamed('n_product','store_n_product')\n",
    "\n",
    "# product purchase \n",
    "df_top_product_purchase = df_top_product_purchase.withColumnRenamed('client_id','client_id2')\n",
    "df_feature = df_feature.join(df_top_product_purchase.select('client_id2','product_id','s_purchase'),df_feature.client_id == df_top_product_purchase.client_id2,'left' )\n",
    "df_feature = df_feature.drop('client_id2')\n",
    "df_feature = df_feature.withColumnRenamed('product_id','product_pur')\n",
    "\n",
    "# product qty \n",
    "df_top_product_qty = df_top_product_qty.withColumnRenamed('client_id','client_id2')\n",
    "df_feature = df_feature.join(df_top_product_qty.select('client_id2','product_id','n_product'),df_feature.client_id == df_top_product_qty.client_id2,'left' )\n",
    "df_feature = df_feature.drop('client_id2')\n",
    "df_feature = df_feature.withColumnRenamed('product_id','product_qty')"
   ]
  },
  {
   "cell_type": "code",
   "execution_count": 164,
   "metadata": {},
   "outputs": [],
   "source": [
    "df_feature.repartition(1).write.mode('overwrite').option(\"header\",True).csv(\"D:/works/master_tilburg/dss/thesis/data/feature_stg2.csv\")"
   ]
  },
  {
   "cell_type": "code",
   "execution_count": 132,
   "metadata": {},
   "outputs": [
    {
     "name": "stdout",
     "output_type": "stream",
     "text": [
      "+----------+-----------------------+--------------------+-----------------+------------------+--------------+------------------+----------------+-------------+------------+--------------+----------------+---------------+-----------+----------+-----------+---------+\n",
      "| client_id|regular_points_received|express_points_spent|     purchase_sum|        avg_n_prod|avg_n_prod_qty|  trn_sum_from_iss|trn_sum_from_red|n_transaction|store_id_pur|s_purchase_sum|store_id_pur_qty|store_n_product|product_pur|s_purchase|product_qty|n_product|\n",
      "+----------+-----------------------+--------------------+-----------------+------------------+--------------+------------------+----------------+-------------+------------+--------------+----------------+---------------+-----------+----------+-----------+---------+\n",
      "|02429418df|     37.300000000000004|                 0.0|          4156.77|               8.5|          62.0| 539.9142857142857|             0.0|            6|  d09acf8114|        1349.0|      2fe93e36be|             21| 4009f09b04|    3190.7| 4009f09b04|        3|\n",
      "|02d6c08e7d|     5.8999999999999995|                 0.0|            747.0|1.8888888888888888|          30.0|500.58333333333337|             0.0|            9|  7763d9b151|         721.0|      7763d9b151|              8| 21e8f864ff|     506.0| 21e8f864ff|        7|\n",
      "|03f35da9a5|     30.199999999999996|                 0.0|5661.849999999999|3.6470588235294117|          87.0|            1455.9|             0.0|           17|  04d336aec5|       5661.85|      04d336aec5|             47| 222c727a1d|   2090.06| 222c727a1d|        4|\n",
      "+----------+-----------------------+--------------------+-----------------+------------------+--------------+------------------+----------------+-------------+------------+--------------+----------------+---------------+-----------+----------+-----------+---------+\n",
      "\n"
     ]
    }
   ],
   "source": [
    "df_feature.limit(3).show()"
   ]
  },
  {
   "cell_type": "code",
   "execution_count": 152,
   "metadata": {},
   "outputs": [
    {
     "name": "stdout",
     "output_type": "stream",
     "text": [
      "root\n",
      " |-- client_id: string (nullable = true)\n",
      " |-- regular_points_received: double (nullable = true)\n",
      " |-- express_points_spent: double (nullable = true)\n",
      " |-- purchase_sum: double (nullable = true)\n",
      " |-- avg_n_prod: double (nullable = true)\n",
      " |-- avg_n_prod_qty: double (nullable = true)\n",
      " |-- trn_sum_from_iss: double (nullable = true)\n",
      " |-- trn_sum_from_red: double (nullable = true)\n",
      " |-- n_transaction: long (nullable = false)\n",
      " |-- store_id_pur: string (nullable = true)\n",
      " |-- s_purchase_sum: double (nullable = true)\n",
      " |-- store_id_pur_qty: string (nullable = true)\n",
      " |-- store_n_product: long (nullable = true)\n",
      " |-- product_pur: string (nullable = true)\n",
      " |-- s_purchase: double (nullable = true)\n",
      " |-- product_qty: string (nullable = true)\n",
      " |-- n_product: long (nullable = true)\n",
      "\n"
     ]
    }
   ],
   "source": [
    "df_feature.printSchema()"
   ]
  },
  {
   "cell_type": "code",
   "execution_count": 133,
   "metadata": {},
   "outputs": [
    {
     "data": {
      "text/plain": [
       "72824"
      ]
     },
     "execution_count": 133,
     "metadata": {},
     "output_type": "execute_result"
    }
   ],
   "source": [
    "df_feature.count()"
   ]
  },
  {
   "cell_type": "code",
   "execution_count": 110,
   "metadata": {},
   "outputs": [
    {
     "name": "stdout",
     "output_type": "stream",
     "text": [
      "+----------+----------+------------------+------------------+---------+---------------+-------------+\n",
      "| client_id|  store_id|    s_purchase_sum|     avg_n_prod_id|n_product|rank_s_purchase|rank_prod_qty|\n",
      "+----------+----------+------------------+------------------+---------+---------------+-------------+\n",
      "|02429418df|2fe93e36be|1337.7000000000003|              21.0|       21|              2|            1|\n",
      "|02d6c08e7d|7763d9b151|             721.0|               2.0|        8|              1|            1|\n",
      "|03f35da9a5|04d336aec5|           5661.85|3.6470588235294117|       47|              1|            1|\n",
      "+----------+----------+------------------+------------------+---------+---------------+-------------+\n",
      "\n"
     ]
    }
   ],
   "source": [
    "df_store_gb_top_qty.limit(3).show()"
   ]
  },
  {
   "cell_type": "code",
   "execution_count": 107,
   "metadata": {},
   "outputs": [
    {
     "name": "stdout",
     "output_type": "stream",
     "text": [
      "root\n",
      " |-- client_id: string (nullable = true)\n",
      " |-- store_id: string (nullable = true)\n",
      " |-- s_purchase_sum: double (nullable = true)\n",
      " |-- avg_n_prod_id: double (nullable = true)\n",
      " |-- n_product: long (nullable = false)\n",
      " |-- rank_s_purchase: integer (nullable = true)\n",
      " |-- rank_prod_qty: integer (nullable = true)\n",
      "\n",
      "root\n",
      " |-- client_id: string (nullable = true)\n",
      " |-- store_id: string (nullable = true)\n",
      " |-- s_purchase_sum: double (nullable = true)\n",
      " |-- avg_n_prod_id: double (nullable = true)\n",
      " |-- n_product: long (nullable = false)\n",
      " |-- rank_s_purchase: integer (nullable = true)\n",
      " |-- rank_prod_qty: integer (nullable = true)\n",
      "\n"
     ]
    },
    {
     "data": {
      "text/plain": [
       "(None, None)"
      ]
     },
     "execution_count": 107,
     "metadata": {},
     "output_type": "execute_result"
    }
   ],
   "source": [
    "df_store_gb_top_pur.printSchema(), df_store_gb_top_qty.printSchema()"
   ]
  },
  {
   "cell_type": "code",
   "execution_count": 101,
   "metadata": {},
   "outputs": [
    {
     "data": {
      "text/plain": [
       "(400162, 400162)"
      ]
     },
     "execution_count": 101,
     "metadata": {},
     "output_type": "execute_result"
    }
   ],
   "source": [
    "df_store_gb_top_qty.count(), df_top_product_qty.count()"
   ]
  },
  {
   "cell_type": "code",
   "execution_count": 100,
   "metadata": {},
   "outputs": [
    {
     "name": "stdout",
     "output_type": "stream",
     "text": [
      "root\n",
      " |-- client_id: string (nullable = true)\n",
      " |-- store_id: string (nullable = true)\n",
      " |-- s_purchase_sum: double (nullable = true)\n",
      " |-- avg_n_prod_id: double (nullable = true)\n",
      " |-- n_product: long (nullable = false)\n",
      " |-- rank_s_purchase: integer (nullable = true)\n",
      " |-- rank_prod_qty: integer (nullable = true)\n",
      "\n"
     ]
    }
   ],
   "source": [
    "df_store_gb_top_pur.printSchema()"
   ]
  },
  {
   "cell_type": "code",
   "execution_count": 77,
   "metadata": {},
   "outputs": [
    {
     "name": "stdout",
     "output_type": "stream",
     "text": [
      "+---+----------------+\n",
      "|  n|count(client_id)|\n",
      "+---+----------------+\n",
      "|  1|          167362|\n",
      "|  2|           32677|\n",
      "+---+----------------+\n",
      "\n"
     ]
    }
   ],
   "source": [
    "tes = df_cli_pur.groupby('client_id').agg(fn.countDistinct('drop_transaction').alias('n'))\n",
    "tes.groupby('n').agg(fn.countDistinct('client_id')).show()"
   ]
  },
  {
   "cell_type": "code",
   "execution_count": 74,
   "metadata": {},
   "outputs": [
    {
     "name": "stdout",
     "output_type": "stream",
     "text": [
      "+----------------+-------------+------+---------------------+----------------+\n",
      "|drop_transaction|treatment_flg|target|count(transaction_id)|count(client_id)|\n",
      "+----------------+-------------+------+---------------------+----------------+\n",
      "|               0|            1|     1|              1321476|           53320|\n",
      "|               0|            0|     0|               361034|           29165|\n",
      "|               1|            0|     1|               253067|           19993|\n",
      "|               1|            1|     1|               260104|           21141|\n",
      "|               1|            0|     0|               118283|           16658|\n",
      "|               1|            1|     0|               107540|           15032|\n",
      "|               0|            1|     0|               329054|           26732|\n",
      "|               0|            0|     1|              1274388|           50675|\n",
      "+----------------+-------------+------+---------------------+----------------+\n",
      "\n"
     ]
    }
   ],
   "source": [
    "df_cli_pur.groupby('drop_transaction','treatment_flg','target').agg(fn.countDistinct('transaction_id'),fn.countDistinct('client_id')).show()"
   ]
  },
  {
   "cell_type": "code",
   "execution_count": 75,
   "metadata": {},
   "outputs": [
    {
     "data": {
      "text/plain": [
       "232716"
      ]
     },
     "execution_count": 75,
     "metadata": {},
     "output_type": "execute_result"
    }
   ],
   "source": [
    "53320 + 29165 + 19993 + 21141 + 16658 + 15032 + 26732 + 50675"
   ]
  },
  {
   "cell_type": "code",
   "execution_count": 63,
   "metadata": {},
   "outputs": [
    {
     "name": "stdout",
     "output_type": "stream",
     "text": [
      "+----------------+---------------------+----------------+\n",
      "|drop_transaction|count(transaction_id)|count(client_id)|\n",
      "+----------------+---------------------+----------------+\n",
      "|               1|              1479837|          145869|\n",
      "|               0|              6565370|          319733|\n",
      "+----------------+---------------------+----------------+\n",
      "\n"
     ]
    }
   ],
   "source": [
    "df_cli_pur.groupby('drop_transaction').agg(fn.countDistinct('transaction_id'),fn.countDistinct('client_id')).show()"
   ]
  },
  {
   "cell_type": "code",
   "execution_count": 47,
   "metadata": {},
   "outputs": [
    {
     "name": "stdout",
     "output_type": "stream",
     "text": [
      "+----------+-------------------+---+------+-----------------+\n",
      "| client_id|   first_issue_date|age|gender|first_redeem_date|\n",
      "+----------+-------------------+---+------+-----------------+\n",
      "|000048b7a6|2018-12-15 13:33:11| 68|     F|       2019-11-20|\n",
      "+----------+-------------------+---+------+-----------------+\n",
      "\n"
     ]
    }
   ],
   "source": [
    "df_cli.filter(df_cli.client_id == '000048b7a6' ).show()"
   ]
  },
  {
   "cell_type": "code",
   "execution_count": 26,
   "metadata": {},
   "outputs": [
    {
     "name": "stdout",
     "output_type": "stream",
     "text": [
      "+----------+-------------------+---+------+-------------------+\n",
      "| client_id|   first_issue_date|age|gender|  first_redeem_date|\n",
      "+----------+-------------------+---+------+-------------------+\n",
      "|000012768d|2017-08-05 15:40:48| 45|     U|2018-01-04 19:30:07|\n",
      "|000036f903|2017-04-10 13:54:23| 72|     F|2017-04-23 12:37:56|\n",
      "|000048b7a6|2018-12-15 13:33:11| 68|     F|         2019-11-20|\n",
      "+----------+-------------------+---+------+-------------------+\n",
      "\n"
     ]
    }
   ],
   "source": [
    "df_cli.limit(3).show()"
   ]
  },
  {
   "cell_type": "code",
   "execution_count": 23,
   "metadata": {},
   "outputs": [
    {
     "name": "stdout",
     "output_type": "stream",
     "text": [
      "+---------+----------------+-----------------+---+------+------------------+\n",
      "|client_id|first_issue_date|first_redeem_date|age|gender|first_redeem_date2|\n",
      "+---------+----------------+-----------------+---+------+------------------+\n",
      "|        0|               0|            35469|  0|     0|                 0|\n",
      "+---------+----------------+-----------------+---+------+------------------+\n",
      "\n"
     ]
    }
   ],
   "source": [
    "df_cli.select([fn.count(fn.when(fn.isnan(c) | fn.col(c).isNull(), c)).alias(c) for c in df_cli.columns]).show()"
   ]
  },
  {
   "cell_type": "code",
   "execution_count": 42,
   "metadata": {},
   "outputs": [
    {
     "name": "stdout",
     "output_type": "stream",
     "text": [
      "+----------------------+----------------------+\n",
      "|min(first_redeem_date)|max(first_redeem_date)|\n",
      "+----------------------+----------------------+\n",
      "|   2017-04-11 09:42:20|   2019-11-20 12:37:56|\n",
      "+----------------------+----------------------+\n",
      "\n"
     ]
    }
   ],
   "source": [
    "df_cli.select(fn.min('first_redeem_date'),fn.max('first_redeem_date')).show()"
   ]
  },
  {
   "cell_type": "code",
   "execution_count": 11,
   "metadata": {},
   "outputs": [
    {
     "name": "stdout",
     "output_type": "stream",
     "text": [
      "root\n",
      " |-- client_id: string (nullable = true)\n",
      " |-- first_issue_date: string (nullable = true)\n",
      " |-- first_redeem_date: string (nullable = true)\n",
      " |-- age: integer (nullable = true)\n",
      " |-- gender: string (nullable = true)\n",
      "\n"
     ]
    }
   ],
   "source": [
    "df_cli.printSchema()"
   ]
  },
  {
   "cell_type": "code",
   "execution_count": 12,
   "metadata": {},
   "outputs": [
    {
     "name": "stdout",
     "output_type": "stream",
     "text": [
      "root\n",
      " |-- client_id: string (nullable = true)\n",
      " |-- transaction_id: string (nullable = true)\n",
      " |-- transaction_datetime: string (nullable = true)\n",
      " |-- regular_points_received: double (nullable = true)\n",
      " |-- express_points_received: double (nullable = true)\n",
      " |-- regular_points_spent: double (nullable = true)\n",
      " |-- express_points_spent: double (nullable = true)\n",
      " |-- purchase_sum: double (nullable = true)\n",
      " |-- store_id: string (nullable = true)\n",
      " |-- product_id: string (nullable = true)\n",
      " |-- product_quantity: double (nullable = true)\n",
      " |-- trn_sum_from_iss: double (nullable = true)\n",
      " |-- trn_sum_from_red: double (nullable = true)\n",
      "\n"
     ]
    }
   ],
   "source": [
    "df_pur.printSchema()"
   ]
  },
  {
   "cell_type": "code",
   "execution_count": null,
   "metadata": {},
   "outputs": [],
   "source": [
    "spark.stop()"
   ]
  }
 ],
 "metadata": {
  "kernelspec": {
   "display_name": "Python 3",
   "language": "python",
   "name": "python3"
  },
  "language_info": {
   "codemirror_mode": {
    "name": "ipython",
    "version": 3
   },
   "file_extension": ".py",
   "mimetype": "text/x-python",
   "name": "python",
   "nbconvert_exporter": "python",
   "pygments_lexer": "ipython3",
   "version": "3.6.9"
  }
 },
 "nbformat": 4,
 "nbformat_minor": 4
}
